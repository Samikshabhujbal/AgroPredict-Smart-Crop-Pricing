{
 "cells": [
  {
   "cell_type": "code",
   "execution_count": 87,
   "id": "e68882ea",
   "metadata": {},
   "outputs": [],
   "source": [
    "#Import all required libreries"
   ]
  },
  {
   "cell_type": "code",
   "execution_count": 88,
   "id": "ef8b158b",
   "metadata": {},
   "outputs": [],
   "source": [
    "import pandas as pd\n",
    "import numpy as np\n",
    "import seaborn as sns"
   ]
  },
  {
   "cell_type": "code",
   "execution_count": 89,
   "id": "a6437719",
   "metadata": {},
   "outputs": [],
   "source": [
    "df=pd.read_csv(\"Price_Agriculture_commodities_Week.csv\")"
   ]
  },
  {
   "cell_type": "code",
   "execution_count": 90,
   "id": "f6e03236",
   "metadata": {},
   "outputs": [
    {
     "data": {
      "text/html": [
       "<div>\n",
       "<style scoped>\n",
       "    .dataframe tbody tr th:only-of-type {\n",
       "        vertical-align: middle;\n",
       "    }\n",
       "\n",
       "    .dataframe tbody tr th {\n",
       "        vertical-align: top;\n",
       "    }\n",
       "\n",
       "    .dataframe thead th {\n",
       "        text-align: right;\n",
       "    }\n",
       "</style>\n",
       "<table border=\"1\" class=\"dataframe\">\n",
       "  <thead>\n",
       "    <tr style=\"text-align: right;\">\n",
       "      <th></th>\n",
       "      <th>State</th>\n",
       "      <th>District</th>\n",
       "      <th>Market</th>\n",
       "      <th>Commodity</th>\n",
       "      <th>Variety</th>\n",
       "      <th>Grade</th>\n",
       "      <th>Arrival_Date</th>\n",
       "      <th>Min Price</th>\n",
       "      <th>Max Price</th>\n",
       "      <th>Modal Price</th>\n",
       "    </tr>\n",
       "  </thead>\n",
       "  <tbody>\n",
       "    <tr>\n",
       "      <th>0</th>\n",
       "      <td>Gujarat</td>\n",
       "      <td>Amreli</td>\n",
       "      <td>Damnagar</td>\n",
       "      <td>Bhindi(Ladies Finger)</td>\n",
       "      <td>Bhindi</td>\n",
       "      <td>FAQ</td>\n",
       "      <td>27-07-2023</td>\n",
       "      <td>4100.0</td>\n",
       "      <td>4500.0</td>\n",
       "      <td>4350.0</td>\n",
       "    </tr>\n",
       "    <tr>\n",
       "      <th>1</th>\n",
       "      <td>Gujarat</td>\n",
       "      <td>Amreli</td>\n",
       "      <td>Damnagar</td>\n",
       "      <td>Brinjal</td>\n",
       "      <td>Other</td>\n",
       "      <td>FAQ</td>\n",
       "      <td>27-07-2023</td>\n",
       "      <td>2200.0</td>\n",
       "      <td>3000.0</td>\n",
       "      <td>2450.0</td>\n",
       "    </tr>\n",
       "    <tr>\n",
       "      <th>2</th>\n",
       "      <td>Gujarat</td>\n",
       "      <td>Amreli</td>\n",
       "      <td>Damnagar</td>\n",
       "      <td>Cabbage</td>\n",
       "      <td>Cabbage</td>\n",
       "      <td>FAQ</td>\n",
       "      <td>27-07-2023</td>\n",
       "      <td>2350.0</td>\n",
       "      <td>3000.0</td>\n",
       "      <td>2700.0</td>\n",
       "    </tr>\n",
       "    <tr>\n",
       "      <th>3</th>\n",
       "      <td>Gujarat</td>\n",
       "      <td>Amreli</td>\n",
       "      <td>Damnagar</td>\n",
       "      <td>Cauliflower</td>\n",
       "      <td>Cauliflower</td>\n",
       "      <td>FAQ</td>\n",
       "      <td>27-07-2023</td>\n",
       "      <td>7000.0</td>\n",
       "      <td>7500.0</td>\n",
       "      <td>7250.0</td>\n",
       "    </tr>\n",
       "    <tr>\n",
       "      <th>4</th>\n",
       "      <td>Gujarat</td>\n",
       "      <td>Amreli</td>\n",
       "      <td>Damnagar</td>\n",
       "      <td>Coriander(Leaves)</td>\n",
       "      <td>Coriander</td>\n",
       "      <td>FAQ</td>\n",
       "      <td>27-07-2023</td>\n",
       "      <td>8400.0</td>\n",
       "      <td>9000.0</td>\n",
       "      <td>8850.0</td>\n",
       "    </tr>\n",
       "    <tr>\n",
       "      <th>...</th>\n",
       "      <td>...</td>\n",
       "      <td>...</td>\n",
       "      <td>...</td>\n",
       "      <td>...</td>\n",
       "      <td>...</td>\n",
       "      <td>...</td>\n",
       "      <td>...</td>\n",
       "      <td>...</td>\n",
       "      <td>...</td>\n",
       "      <td>...</td>\n",
       "    </tr>\n",
       "    <tr>\n",
       "      <th>23088</th>\n",
       "      <td>Uttrakhand</td>\n",
       "      <td>Haridwar</td>\n",
       "      <td>Roorkee</td>\n",
       "      <td>Mango</td>\n",
       "      <td>Other</td>\n",
       "      <td>Medium</td>\n",
       "      <td>02-08-2023</td>\n",
       "      <td>800.0</td>\n",
       "      <td>1200.0</td>\n",
       "      <td>1000.0</td>\n",
       "    </tr>\n",
       "    <tr>\n",
       "      <th>23089</th>\n",
       "      <td>Uttrakhand</td>\n",
       "      <td>Haridwar</td>\n",
       "      <td>Roorkee</td>\n",
       "      <td>Mousambi(Sweet Lime)</td>\n",
       "      <td>Other</td>\n",
       "      <td>Medium</td>\n",
       "      <td>02-08-2023</td>\n",
       "      <td>1500.0</td>\n",
       "      <td>2500.0</td>\n",
       "      <td>2000.0</td>\n",
       "    </tr>\n",
       "    <tr>\n",
       "      <th>23090</th>\n",
       "      <td>Uttrakhand</td>\n",
       "      <td>Haridwar</td>\n",
       "      <td>Roorkee</td>\n",
       "      <td>Pear(Marasebu)</td>\n",
       "      <td>Other</td>\n",
       "      <td>Medium</td>\n",
       "      <td>02-08-2023</td>\n",
       "      <td>2000.0</td>\n",
       "      <td>3000.0</td>\n",
       "      <td>2500.0</td>\n",
       "    </tr>\n",
       "    <tr>\n",
       "      <th>23091</th>\n",
       "      <td>Uttrakhand</td>\n",
       "      <td>Haridwar</td>\n",
       "      <td>Roorkee</td>\n",
       "      <td>Potato</td>\n",
       "      <td>Other</td>\n",
       "      <td>FAQ</td>\n",
       "      <td>02-08-2023</td>\n",
       "      <td>900.0</td>\n",
       "      <td>1800.0</td>\n",
       "      <td>1500.0</td>\n",
       "    </tr>\n",
       "    <tr>\n",
       "      <th>23092</th>\n",
       "      <td>Uttrakhand</td>\n",
       "      <td>Haridwar</td>\n",
       "      <td>Roorkee</td>\n",
       "      <td>Pumpkin</td>\n",
       "      <td>Other</td>\n",
       "      <td>FAQ</td>\n",
       "      <td>02-08-2023</td>\n",
       "      <td>500.0</td>\n",
       "      <td>700.0</td>\n",
       "      <td>600.0</td>\n",
       "    </tr>\n",
       "  </tbody>\n",
       "</table>\n",
       "<p>23093 rows × 10 columns</p>\n",
       "</div>"
      ],
      "text/plain": [
       "            State  District    Market              Commodity      Variety  \\\n",
       "0         Gujarat    Amreli  Damnagar  Bhindi(Ladies Finger)       Bhindi   \n",
       "1         Gujarat    Amreli  Damnagar                Brinjal        Other   \n",
       "2         Gujarat    Amreli  Damnagar                Cabbage      Cabbage   \n",
       "3         Gujarat    Amreli  Damnagar            Cauliflower  Cauliflower   \n",
       "4         Gujarat    Amreli  Damnagar      Coriander(Leaves)    Coriander   \n",
       "...           ...       ...       ...                    ...          ...   \n",
       "23088  Uttrakhand  Haridwar   Roorkee                  Mango        Other   \n",
       "23089  Uttrakhand  Haridwar   Roorkee   Mousambi(Sweet Lime)        Other   \n",
       "23090  Uttrakhand  Haridwar   Roorkee         Pear(Marasebu)        Other   \n",
       "23091  Uttrakhand  Haridwar   Roorkee                 Potato        Other   \n",
       "23092  Uttrakhand  Haridwar   Roorkee                Pumpkin        Other   \n",
       "\n",
       "        Grade Arrival_Date  Min Price  Max Price  Modal Price  \n",
       "0         FAQ   27-07-2023     4100.0     4500.0       4350.0  \n",
       "1         FAQ   27-07-2023     2200.0     3000.0       2450.0  \n",
       "2         FAQ   27-07-2023     2350.0     3000.0       2700.0  \n",
       "3         FAQ   27-07-2023     7000.0     7500.0       7250.0  \n",
       "4         FAQ   27-07-2023     8400.0     9000.0       8850.0  \n",
       "...       ...          ...        ...        ...          ...  \n",
       "23088  Medium   02-08-2023      800.0     1200.0       1000.0  \n",
       "23089  Medium   02-08-2023     1500.0     2500.0       2000.0  \n",
       "23090  Medium   02-08-2023     2000.0     3000.0       2500.0  \n",
       "23091     FAQ   02-08-2023      900.0     1800.0       1500.0  \n",
       "23092     FAQ   02-08-2023      500.0      700.0        600.0  \n",
       "\n",
       "[23093 rows x 10 columns]"
      ]
     },
     "execution_count": 90,
     "metadata": {},
     "output_type": "execute_result"
    }
   ],
   "source": [
    "df"
   ]
  },
  {
   "cell_type": "code",
   "execution_count": 103,
   "id": "0a095eb5",
   "metadata": {},
   "outputs": [
    {
     "data": {
      "text/plain": [
       "State           0\n",
       "District        0\n",
       "Market          0\n",
       "Commodity       0\n",
       "Variety         0\n",
       "Grade           0\n",
       "Arrival_Date    0\n",
       "Min Price       0\n",
       "Max Price       0\n",
       "Modal Price     0\n",
       "dtype: int64"
      ]
     },
     "execution_count": 103,
     "metadata": {},
     "output_type": "execute_result"
    }
   ],
   "source": [
    "df.isnull().sum()"
   ]
  },
  {
   "cell_type": "code",
   "execution_count": 101,
   "id": "80cd0710",
   "metadata": {},
   "outputs": [
    {
     "name": "stdout",
     "output_type": "stream",
     "text": [
      "151\n"
     ]
    }
   ],
   "source": [
    "count = df['District'].value_counts()['Fatehpur']\n",
    "print(count)\n"
   ]
  },
  {
   "cell_type": "code",
   "execution_count": 92,
   "id": "e9d498a3",
   "metadata": {},
   "outputs": [
    {
     "data": {
      "text/html": [
       "<div>\n",
       "<style scoped>\n",
       "    .dataframe tbody tr th:only-of-type {\n",
       "        vertical-align: middle;\n",
       "    }\n",
       "\n",
       "    .dataframe tbody tr th {\n",
       "        vertical-align: top;\n",
       "    }\n",
       "\n",
       "    .dataframe thead th {\n",
       "        text-align: right;\n",
       "    }\n",
       "</style>\n",
       "<table border=\"1\" class=\"dataframe\">\n",
       "  <thead>\n",
       "    <tr style=\"text-align: right;\">\n",
       "      <th></th>\n",
       "      <th>State</th>\n",
       "      <th>District</th>\n",
       "      <th>Market</th>\n",
       "      <th>Commodity</th>\n",
       "      <th>Variety</th>\n",
       "      <th>Grade</th>\n",
       "      <th>Arrival_Date</th>\n",
       "      <th>Min Price</th>\n",
       "      <th>Max Price</th>\n",
       "      <th>Modal Price</th>\n",
       "    </tr>\n",
       "  </thead>\n",
       "  <tbody>\n",
       "    <tr>\n",
       "      <th>0</th>\n",
       "      <td>Gujarat</td>\n",
       "      <td>Amreli</td>\n",
       "      <td>Damnagar</td>\n",
       "      <td>Bhindi(Ladies Finger)</td>\n",
       "      <td>Bhindi</td>\n",
       "      <td>FAQ</td>\n",
       "      <td>27-07-2023</td>\n",
       "      <td>4100.0</td>\n",
       "      <td>4500.0</td>\n",
       "      <td>4350.0</td>\n",
       "    </tr>\n",
       "    <tr>\n",
       "      <th>1</th>\n",
       "      <td>Gujarat</td>\n",
       "      <td>Amreli</td>\n",
       "      <td>Damnagar</td>\n",
       "      <td>Brinjal</td>\n",
       "      <td>Other</td>\n",
       "      <td>FAQ</td>\n",
       "      <td>27-07-2023</td>\n",
       "      <td>2200.0</td>\n",
       "      <td>3000.0</td>\n",
       "      <td>2450.0</td>\n",
       "    </tr>\n",
       "    <tr>\n",
       "      <th>2</th>\n",
       "      <td>Gujarat</td>\n",
       "      <td>Amreli</td>\n",
       "      <td>Damnagar</td>\n",
       "      <td>Cabbage</td>\n",
       "      <td>Cabbage</td>\n",
       "      <td>FAQ</td>\n",
       "      <td>27-07-2023</td>\n",
       "      <td>2350.0</td>\n",
       "      <td>3000.0</td>\n",
       "      <td>2700.0</td>\n",
       "    </tr>\n",
       "    <tr>\n",
       "      <th>3</th>\n",
       "      <td>Gujarat</td>\n",
       "      <td>Amreli</td>\n",
       "      <td>Damnagar</td>\n",
       "      <td>Cauliflower</td>\n",
       "      <td>Cauliflower</td>\n",
       "      <td>FAQ</td>\n",
       "      <td>27-07-2023</td>\n",
       "      <td>7000.0</td>\n",
       "      <td>7500.0</td>\n",
       "      <td>7250.0</td>\n",
       "    </tr>\n",
       "    <tr>\n",
       "      <th>4</th>\n",
       "      <td>Gujarat</td>\n",
       "      <td>Amreli</td>\n",
       "      <td>Damnagar</td>\n",
       "      <td>Coriander(Leaves)</td>\n",
       "      <td>Coriander</td>\n",
       "      <td>FAQ</td>\n",
       "      <td>27-07-2023</td>\n",
       "      <td>8400.0</td>\n",
       "      <td>9000.0</td>\n",
       "      <td>8850.0</td>\n",
       "    </tr>\n",
       "    <tr>\n",
       "      <th>...</th>\n",
       "      <td>...</td>\n",
       "      <td>...</td>\n",
       "      <td>...</td>\n",
       "      <td>...</td>\n",
       "      <td>...</td>\n",
       "      <td>...</td>\n",
       "      <td>...</td>\n",
       "      <td>...</td>\n",
       "      <td>...</td>\n",
       "      <td>...</td>\n",
       "    </tr>\n",
       "    <tr>\n",
       "      <th>23088</th>\n",
       "      <td>Uttrakhand</td>\n",
       "      <td>Haridwar</td>\n",
       "      <td>Roorkee</td>\n",
       "      <td>Mango</td>\n",
       "      <td>Other</td>\n",
       "      <td>Medium</td>\n",
       "      <td>02-08-2023</td>\n",
       "      <td>800.0</td>\n",
       "      <td>1200.0</td>\n",
       "      <td>1000.0</td>\n",
       "    </tr>\n",
       "    <tr>\n",
       "      <th>23089</th>\n",
       "      <td>Uttrakhand</td>\n",
       "      <td>Haridwar</td>\n",
       "      <td>Roorkee</td>\n",
       "      <td>Mousambi(Sweet Lime)</td>\n",
       "      <td>Other</td>\n",
       "      <td>Medium</td>\n",
       "      <td>02-08-2023</td>\n",
       "      <td>1500.0</td>\n",
       "      <td>2500.0</td>\n",
       "      <td>2000.0</td>\n",
       "    </tr>\n",
       "    <tr>\n",
       "      <th>23090</th>\n",
       "      <td>Uttrakhand</td>\n",
       "      <td>Haridwar</td>\n",
       "      <td>Roorkee</td>\n",
       "      <td>Pear(Marasebu)</td>\n",
       "      <td>Other</td>\n",
       "      <td>Medium</td>\n",
       "      <td>02-08-2023</td>\n",
       "      <td>2000.0</td>\n",
       "      <td>3000.0</td>\n",
       "      <td>2500.0</td>\n",
       "    </tr>\n",
       "    <tr>\n",
       "      <th>23091</th>\n",
       "      <td>Uttrakhand</td>\n",
       "      <td>Haridwar</td>\n",
       "      <td>Roorkee</td>\n",
       "      <td>Potato</td>\n",
       "      <td>Other</td>\n",
       "      <td>FAQ</td>\n",
       "      <td>02-08-2023</td>\n",
       "      <td>900.0</td>\n",
       "      <td>1800.0</td>\n",
       "      <td>1500.0</td>\n",
       "    </tr>\n",
       "    <tr>\n",
       "      <th>23092</th>\n",
       "      <td>Uttrakhand</td>\n",
       "      <td>Haridwar</td>\n",
       "      <td>Roorkee</td>\n",
       "      <td>Pumpkin</td>\n",
       "      <td>Other</td>\n",
       "      <td>FAQ</td>\n",
       "      <td>02-08-2023</td>\n",
       "      <td>500.0</td>\n",
       "      <td>700.0</td>\n",
       "      <td>600.0</td>\n",
       "    </tr>\n",
       "  </tbody>\n",
       "</table>\n",
       "<p>23093 rows × 10 columns</p>\n",
       "</div>"
      ],
      "text/plain": [
       "            State  District    Market              Commodity      Variety  \\\n",
       "0         Gujarat    Amreli  Damnagar  Bhindi(Ladies Finger)       Bhindi   \n",
       "1         Gujarat    Amreli  Damnagar                Brinjal        Other   \n",
       "2         Gujarat    Amreli  Damnagar                Cabbage      Cabbage   \n",
       "3         Gujarat    Amreli  Damnagar            Cauliflower  Cauliflower   \n",
       "4         Gujarat    Amreli  Damnagar      Coriander(Leaves)    Coriander   \n",
       "...           ...       ...       ...                    ...          ...   \n",
       "23088  Uttrakhand  Haridwar   Roorkee                  Mango        Other   \n",
       "23089  Uttrakhand  Haridwar   Roorkee   Mousambi(Sweet Lime)        Other   \n",
       "23090  Uttrakhand  Haridwar   Roorkee         Pear(Marasebu)        Other   \n",
       "23091  Uttrakhand  Haridwar   Roorkee                 Potato        Other   \n",
       "23092  Uttrakhand  Haridwar   Roorkee                Pumpkin        Other   \n",
       "\n",
       "        Grade Arrival_Date  Min Price  Max Price  Modal Price  \n",
       "0         FAQ   27-07-2023     4100.0     4500.0       4350.0  \n",
       "1         FAQ   27-07-2023     2200.0     3000.0       2450.0  \n",
       "2         FAQ   27-07-2023     2350.0     3000.0       2700.0  \n",
       "3         FAQ   27-07-2023     7000.0     7500.0       7250.0  \n",
       "4         FAQ   27-07-2023     8400.0     9000.0       8850.0  \n",
       "...       ...          ...        ...        ...          ...  \n",
       "23088  Medium   02-08-2023      800.0     1200.0       1000.0  \n",
       "23089  Medium   02-08-2023     1500.0     2500.0       2000.0  \n",
       "23090  Medium   02-08-2023     2000.0     3000.0       2500.0  \n",
       "23091     FAQ   02-08-2023      900.0     1800.0       1500.0  \n",
       "23092     FAQ   02-08-2023      500.0      700.0        600.0  \n",
       "\n",
       "[23093 rows x 10 columns]"
      ]
     },
     "execution_count": 92,
     "metadata": {},
     "output_type": "execute_result"
    }
   ],
   "source": [
    "df.drop(columns='Grade')\n",
    "df"
   ]
  },
  {
   "cell_type": "code",
   "execution_count": 93,
   "id": "ba51554d",
   "metadata": {},
   "outputs": [
    {
     "name": "stdout",
     "output_type": "stream",
     "text": [
      "<class 'pandas.core.frame.DataFrame'>\n",
      "RangeIndex: 23093 entries, 0 to 23092\n",
      "Data columns (total 10 columns):\n",
      " #   Column        Non-Null Count  Dtype  \n",
      "---  ------        --------------  -----  \n",
      " 0   State         23093 non-null  object \n",
      " 1   District      23093 non-null  object \n",
      " 2   Market        23093 non-null  object \n",
      " 3   Commodity     23093 non-null  object \n",
      " 4   Variety       23093 non-null  object \n",
      " 5   Grade         23093 non-null  object \n",
      " 6   Arrival_Date  23093 non-null  object \n",
      " 7   Min Price     23093 non-null  float64\n",
      " 8   Max Price     23093 non-null  float64\n",
      " 9   Modal Price   23093 non-null  float64\n",
      "dtypes: float64(3), object(7)\n",
      "memory usage: 1.8+ MB\n"
     ]
    }
   ],
   "source": [
    "df.info()"
   ]
  },
  {
   "cell_type": "code",
   "execution_count": 7,
   "id": "fa590acb",
   "metadata": {},
   "outputs": [
    {
     "data": {
      "text/plain": [
       "State           0\n",
       "District        0\n",
       "Market          0\n",
       "Commodity       0\n",
       "Variety         0\n",
       "Grade           0\n",
       "Arrival_Date    0\n",
       "Min Price       0\n",
       "Max Price       0\n",
       "Modal Price     0\n",
       "dtype: int64"
      ]
     },
     "execution_count": 7,
     "metadata": {},
     "output_type": "execute_result"
    }
   ],
   "source": [
    "df.isnull().sum()"
   ]
  },
  {
   "cell_type": "code",
   "execution_count": 8,
   "id": "c5527b2c",
   "metadata": {},
   "outputs": [
    {
     "data": {
      "text/html": [
       "<div>\n",
       "<style scoped>\n",
       "    .dataframe tbody tr th:only-of-type {\n",
       "        vertical-align: middle;\n",
       "    }\n",
       "\n",
       "    .dataframe tbody tr th {\n",
       "        vertical-align: top;\n",
       "    }\n",
       "\n",
       "    .dataframe thead th {\n",
       "        text-align: right;\n",
       "    }\n",
       "</style>\n",
       "<table border=\"1\" class=\"dataframe\">\n",
       "  <thead>\n",
       "    <tr style=\"text-align: right;\">\n",
       "      <th></th>\n",
       "      <th>State</th>\n",
       "      <th>District</th>\n",
       "      <th>Market</th>\n",
       "      <th>Commodity</th>\n",
       "      <th>Variety</th>\n",
       "      <th>Grade</th>\n",
       "      <th>Arrival_Date</th>\n",
       "      <th>Min Price</th>\n",
       "      <th>Max Price</th>\n",
       "      <th>Modal Price</th>\n",
       "    </tr>\n",
       "  </thead>\n",
       "  <tbody>\n",
       "    <tr>\n",
       "      <th>0</th>\n",
       "      <td>Gujarat</td>\n",
       "      <td>Amreli</td>\n",
       "      <td>Damnagar</td>\n",
       "      <td>Bhindi(Ladies Finger)</td>\n",
       "      <td>Bhindi</td>\n",
       "      <td>FAQ</td>\n",
       "      <td>27-07-2023</td>\n",
       "      <td>4100.0</td>\n",
       "      <td>4500.0</td>\n",
       "      <td>4350.0</td>\n",
       "    </tr>\n",
       "    <tr>\n",
       "      <th>1</th>\n",
       "      <td>Gujarat</td>\n",
       "      <td>Amreli</td>\n",
       "      <td>Damnagar</td>\n",
       "      <td>Brinjal</td>\n",
       "      <td>Other</td>\n",
       "      <td>FAQ</td>\n",
       "      <td>27-07-2023</td>\n",
       "      <td>2200.0</td>\n",
       "      <td>3000.0</td>\n",
       "      <td>2450.0</td>\n",
       "    </tr>\n",
       "    <tr>\n",
       "      <th>2</th>\n",
       "      <td>Gujarat</td>\n",
       "      <td>Amreli</td>\n",
       "      <td>Damnagar</td>\n",
       "      <td>Cabbage</td>\n",
       "      <td>Cabbage</td>\n",
       "      <td>FAQ</td>\n",
       "      <td>27-07-2023</td>\n",
       "      <td>2350.0</td>\n",
       "      <td>3000.0</td>\n",
       "      <td>2700.0</td>\n",
       "    </tr>\n",
       "    <tr>\n",
       "      <th>3</th>\n",
       "      <td>Gujarat</td>\n",
       "      <td>Amreli</td>\n",
       "      <td>Damnagar</td>\n",
       "      <td>Cauliflower</td>\n",
       "      <td>Cauliflower</td>\n",
       "      <td>FAQ</td>\n",
       "      <td>27-07-2023</td>\n",
       "      <td>7000.0</td>\n",
       "      <td>7500.0</td>\n",
       "      <td>7250.0</td>\n",
       "    </tr>\n",
       "    <tr>\n",
       "      <th>4</th>\n",
       "      <td>Gujarat</td>\n",
       "      <td>Amreli</td>\n",
       "      <td>Damnagar</td>\n",
       "      <td>Coriander(Leaves)</td>\n",
       "      <td>Coriander</td>\n",
       "      <td>FAQ</td>\n",
       "      <td>27-07-2023</td>\n",
       "      <td>8400.0</td>\n",
       "      <td>9000.0</td>\n",
       "      <td>8850.0</td>\n",
       "    </tr>\n",
       "    <tr>\n",
       "      <th>5</th>\n",
       "      <td>Gujarat</td>\n",
       "      <td>Amreli</td>\n",
       "      <td>Damnagar</td>\n",
       "      <td>Ginger(Green)</td>\n",
       "      <td>Green Ginger</td>\n",
       "      <td>FAQ</td>\n",
       "      <td>27-07-2023</td>\n",
       "      <td>11000.0</td>\n",
       "      <td>14000.0</td>\n",
       "      <td>12500.0</td>\n",
       "    </tr>\n",
       "    <tr>\n",
       "      <th>6</th>\n",
       "      <td>Gujarat</td>\n",
       "      <td>Amreli</td>\n",
       "      <td>Damnagar</td>\n",
       "      <td>Green Chilli</td>\n",
       "      <td>Green Chilly</td>\n",
       "      <td>FAQ</td>\n",
       "      <td>27-07-2023</td>\n",
       "      <td>7200.0</td>\n",
       "      <td>8000.0</td>\n",
       "      <td>7550.0</td>\n",
       "    </tr>\n",
       "    <tr>\n",
       "      <th>7</th>\n",
       "      <td>Gujarat</td>\n",
       "      <td>Amreli</td>\n",
       "      <td>Damnagar</td>\n",
       "      <td>Guar</td>\n",
       "      <td>Gwar</td>\n",
       "      <td>FAQ</td>\n",
       "      <td>27-07-2023</td>\n",
       "      <td>6800.0</td>\n",
       "      <td>7500.0</td>\n",
       "      <td>7350.0</td>\n",
       "    </tr>\n",
       "  </tbody>\n",
       "</table>\n",
       "</div>"
      ],
      "text/plain": [
       "     State District    Market              Commodity       Variety Grade  \\\n",
       "0  Gujarat   Amreli  Damnagar  Bhindi(Ladies Finger)        Bhindi   FAQ   \n",
       "1  Gujarat   Amreli  Damnagar                Brinjal         Other   FAQ   \n",
       "2  Gujarat   Amreli  Damnagar                Cabbage       Cabbage   FAQ   \n",
       "3  Gujarat   Amreli  Damnagar            Cauliflower   Cauliflower   FAQ   \n",
       "4  Gujarat   Amreli  Damnagar      Coriander(Leaves)     Coriander   FAQ   \n",
       "5  Gujarat   Amreli  Damnagar          Ginger(Green)  Green Ginger   FAQ   \n",
       "6  Gujarat   Amreli  Damnagar           Green Chilli  Green Chilly   FAQ   \n",
       "7  Gujarat   Amreli  Damnagar                   Guar          Gwar   FAQ   \n",
       "\n",
       "  Arrival_Date  Min Price  Max Price  Modal Price  \n",
       "0   27-07-2023     4100.0     4500.0       4350.0  \n",
       "1   27-07-2023     2200.0     3000.0       2450.0  \n",
       "2   27-07-2023     2350.0     3000.0       2700.0  \n",
       "3   27-07-2023     7000.0     7500.0       7250.0  \n",
       "4   27-07-2023     8400.0     9000.0       8850.0  \n",
       "5   27-07-2023    11000.0    14000.0      12500.0  \n",
       "6   27-07-2023     7200.0     8000.0       7550.0  \n",
       "7   27-07-2023     6800.0     7500.0       7350.0  "
      ]
     },
     "execution_count": 8,
     "metadata": {},
     "output_type": "execute_result"
    }
   ],
   "source": [
    "df.head(8)"
   ]
  },
  {
   "cell_type": "code",
   "execution_count": 9,
   "id": "9389168a",
   "metadata": {},
   "outputs": [
    {
     "data": {
      "text/plain": [
       "Index(['State', 'District', 'Market', 'Commodity', 'Variety', 'Grade',\n",
       "       'Arrival_Date', 'Min Price', 'Max Price', 'Modal Price'],\n",
       "      dtype='object')"
      ]
     },
     "execution_count": 9,
     "metadata": {},
     "output_type": "execute_result"
    }
   ],
   "source": [
    "df.columns"
   ]
  },
  {
   "cell_type": "code",
   "execution_count": 10,
   "id": "0c3e292e",
   "metadata": {},
   "outputs": [],
   "source": [
    "df2=df.copy()"
   ]
  },
  {
   "cell_type": "code",
   "execution_count": 11,
   "id": "5850e504",
   "metadata": {},
   "outputs": [],
   "source": [
    "#replace null values with mean\n",
    "df2=df2.dropna()"
   ]
  },
  {
   "cell_type": "code",
   "execution_count": 12,
   "id": "e34265dd",
   "metadata": {},
   "outputs": [
    {
     "data": {
      "text/html": [
       "<div>\n",
       "<style scoped>\n",
       "    .dataframe tbody tr th:only-of-type {\n",
       "        vertical-align: middle;\n",
       "    }\n",
       "\n",
       "    .dataframe tbody tr th {\n",
       "        vertical-align: top;\n",
       "    }\n",
       "\n",
       "    .dataframe thead th {\n",
       "        text-align: right;\n",
       "    }\n",
       "</style>\n",
       "<table border=\"1\" class=\"dataframe\">\n",
       "  <thead>\n",
       "    <tr style=\"text-align: right;\">\n",
       "      <th></th>\n",
       "      <th>State</th>\n",
       "      <th>District</th>\n",
       "      <th>Market</th>\n",
       "      <th>Commodity</th>\n",
       "      <th>Variety</th>\n",
       "      <th>Grade</th>\n",
       "      <th>Arrival_Date</th>\n",
       "      <th>Min Price</th>\n",
       "      <th>Max Price</th>\n",
       "      <th>Modal Price</th>\n",
       "    </tr>\n",
       "  </thead>\n",
       "  <tbody>\n",
       "    <tr>\n",
       "      <th>0</th>\n",
       "      <td>Gujarat</td>\n",
       "      <td>Amreli</td>\n",
       "      <td>Damnagar</td>\n",
       "      <td>Bhindi(Ladies Finger)</td>\n",
       "      <td>Bhindi</td>\n",
       "      <td>FAQ</td>\n",
       "      <td>27-07-2023</td>\n",
       "      <td>4100.0</td>\n",
       "      <td>4500.0</td>\n",
       "      <td>4350.0</td>\n",
       "    </tr>\n",
       "    <tr>\n",
       "      <th>1</th>\n",
       "      <td>Gujarat</td>\n",
       "      <td>Amreli</td>\n",
       "      <td>Damnagar</td>\n",
       "      <td>Brinjal</td>\n",
       "      <td>Other</td>\n",
       "      <td>FAQ</td>\n",
       "      <td>27-07-2023</td>\n",
       "      <td>2200.0</td>\n",
       "      <td>3000.0</td>\n",
       "      <td>2450.0</td>\n",
       "    </tr>\n",
       "    <tr>\n",
       "      <th>2</th>\n",
       "      <td>Gujarat</td>\n",
       "      <td>Amreli</td>\n",
       "      <td>Damnagar</td>\n",
       "      <td>Cabbage</td>\n",
       "      <td>Cabbage</td>\n",
       "      <td>FAQ</td>\n",
       "      <td>27-07-2023</td>\n",
       "      <td>2350.0</td>\n",
       "      <td>3000.0</td>\n",
       "      <td>2700.0</td>\n",
       "    </tr>\n",
       "    <tr>\n",
       "      <th>3</th>\n",
       "      <td>Gujarat</td>\n",
       "      <td>Amreli</td>\n",
       "      <td>Damnagar</td>\n",
       "      <td>Cauliflower</td>\n",
       "      <td>Cauliflower</td>\n",
       "      <td>FAQ</td>\n",
       "      <td>27-07-2023</td>\n",
       "      <td>7000.0</td>\n",
       "      <td>7500.0</td>\n",
       "      <td>7250.0</td>\n",
       "    </tr>\n",
       "    <tr>\n",
       "      <th>4</th>\n",
       "      <td>Gujarat</td>\n",
       "      <td>Amreli</td>\n",
       "      <td>Damnagar</td>\n",
       "      <td>Coriander(Leaves)</td>\n",
       "      <td>Coriander</td>\n",
       "      <td>FAQ</td>\n",
       "      <td>27-07-2023</td>\n",
       "      <td>8400.0</td>\n",
       "      <td>9000.0</td>\n",
       "      <td>8850.0</td>\n",
       "    </tr>\n",
       "  </tbody>\n",
       "</table>\n",
       "</div>"
      ],
      "text/plain": [
       "     State District    Market              Commodity      Variety Grade  \\\n",
       "0  Gujarat   Amreli  Damnagar  Bhindi(Ladies Finger)       Bhindi   FAQ   \n",
       "1  Gujarat   Amreli  Damnagar                Brinjal        Other   FAQ   \n",
       "2  Gujarat   Amreli  Damnagar                Cabbage      Cabbage   FAQ   \n",
       "3  Gujarat   Amreli  Damnagar            Cauliflower  Cauliflower   FAQ   \n",
       "4  Gujarat   Amreli  Damnagar      Coriander(Leaves)    Coriander   FAQ   \n",
       "\n",
       "  Arrival_Date  Min Price  Max Price  Modal Price  \n",
       "0   27-07-2023     4100.0     4500.0       4350.0  \n",
       "1   27-07-2023     2200.0     3000.0       2450.0  \n",
       "2   27-07-2023     2350.0     3000.0       2700.0  \n",
       "3   27-07-2023     7000.0     7500.0       7250.0  \n",
       "4   27-07-2023     8400.0     9000.0       8850.0  "
      ]
     },
     "execution_count": 12,
     "metadata": {},
     "output_type": "execute_result"
    }
   ],
   "source": [
    "df2.head()"
   ]
  },
  {
   "cell_type": "code",
   "execution_count": 13,
   "id": "28f4400d",
   "metadata": {},
   "outputs": [
    {
     "name": "stdout",
     "output_type": "stream",
     "text": [
      "<class 'pandas.core.frame.DataFrame'>\n",
      "RangeIndex: 23093 entries, 0 to 23092\n",
      "Data columns (total 10 columns):\n",
      " #   Column        Non-Null Count  Dtype  \n",
      "---  ------        --------------  -----  \n",
      " 0   State         23093 non-null  object \n",
      " 1   District      23093 non-null  object \n",
      " 2   Market        23093 non-null  object \n",
      " 3   Commodity     23093 non-null  object \n",
      " 4   Variety       23093 non-null  object \n",
      " 5   Grade         23093 non-null  object \n",
      " 6   Arrival_Date  23093 non-null  object \n",
      " 7   Min Price     23093 non-null  float64\n",
      " 8   Max Price     23093 non-null  float64\n",
      " 9   Modal Price   23093 non-null  float64\n",
      "dtypes: float64(3), object(7)\n",
      "memory usage: 1.8+ MB\n"
     ]
    }
   ],
   "source": [
    "df2.info()"
   ]
  },
  {
   "cell_type": "code",
   "execution_count": 14,
   "id": "c771904c",
   "metadata": {},
   "outputs": [
    {
     "data": {
      "text/plain": [
       "State           0\n",
       "District        0\n",
       "Market          0\n",
       "Commodity       0\n",
       "Variety         0\n",
       "Grade           0\n",
       "Arrival_Date    0\n",
       "Min Price       0\n",
       "Max Price       0\n",
       "Modal Price     0\n",
       "dtype: int64"
      ]
     },
     "execution_count": 14,
     "metadata": {},
     "output_type": "execute_result"
    }
   ],
   "source": [
    "df2.isnull().sum()"
   ]
  },
  {
   "cell_type": "code",
   "execution_count": 15,
   "id": "e773edbb",
   "metadata": {},
   "outputs": [],
   "source": [
    "df2=df2.head(23093)"
   ]
  },
  {
   "cell_type": "code",
   "execution_count": 16,
   "id": "705551cf",
   "metadata": {},
   "outputs": [
    {
     "data": {
      "text/html": [
       "<div>\n",
       "<style scoped>\n",
       "    .dataframe tbody tr th:only-of-type {\n",
       "        vertical-align: middle;\n",
       "    }\n",
       "\n",
       "    .dataframe tbody tr th {\n",
       "        vertical-align: top;\n",
       "    }\n",
       "\n",
       "    .dataframe thead th {\n",
       "        text-align: right;\n",
       "    }\n",
       "</style>\n",
       "<table border=\"1\" class=\"dataframe\">\n",
       "  <thead>\n",
       "    <tr style=\"text-align: right;\">\n",
       "      <th></th>\n",
       "      <th>State</th>\n",
       "      <th>District</th>\n",
       "      <th>Market</th>\n",
       "      <th>Commodity</th>\n",
       "      <th>Variety</th>\n",
       "      <th>Grade</th>\n",
       "      <th>date</th>\n",
       "      <th>Min Price</th>\n",
       "      <th>Max Price</th>\n",
       "      <th>Modal Price</th>\n",
       "    </tr>\n",
       "  </thead>\n",
       "  <tbody>\n",
       "    <tr>\n",
       "      <th>0</th>\n",
       "      <td>Gujarat</td>\n",
       "      <td>Amreli</td>\n",
       "      <td>Damnagar</td>\n",
       "      <td>Bhindi(Ladies Finger)</td>\n",
       "      <td>Bhindi</td>\n",
       "      <td>FAQ</td>\n",
       "      <td>27-07-2023</td>\n",
       "      <td>4100.0</td>\n",
       "      <td>4500.0</td>\n",
       "      <td>4350.0</td>\n",
       "    </tr>\n",
       "    <tr>\n",
       "      <th>1</th>\n",
       "      <td>Gujarat</td>\n",
       "      <td>Amreli</td>\n",
       "      <td>Damnagar</td>\n",
       "      <td>Brinjal</td>\n",
       "      <td>Other</td>\n",
       "      <td>FAQ</td>\n",
       "      <td>27-07-2023</td>\n",
       "      <td>2200.0</td>\n",
       "      <td>3000.0</td>\n",
       "      <td>2450.0</td>\n",
       "    </tr>\n",
       "    <tr>\n",
       "      <th>2</th>\n",
       "      <td>Gujarat</td>\n",
       "      <td>Amreli</td>\n",
       "      <td>Damnagar</td>\n",
       "      <td>Cabbage</td>\n",
       "      <td>Cabbage</td>\n",
       "      <td>FAQ</td>\n",
       "      <td>27-07-2023</td>\n",
       "      <td>2350.0</td>\n",
       "      <td>3000.0</td>\n",
       "      <td>2700.0</td>\n",
       "    </tr>\n",
       "    <tr>\n",
       "      <th>3</th>\n",
       "      <td>Gujarat</td>\n",
       "      <td>Amreli</td>\n",
       "      <td>Damnagar</td>\n",
       "      <td>Cauliflower</td>\n",
       "      <td>Cauliflower</td>\n",
       "      <td>FAQ</td>\n",
       "      <td>27-07-2023</td>\n",
       "      <td>7000.0</td>\n",
       "      <td>7500.0</td>\n",
       "      <td>7250.0</td>\n",
       "    </tr>\n",
       "    <tr>\n",
       "      <th>4</th>\n",
       "      <td>Gujarat</td>\n",
       "      <td>Amreli</td>\n",
       "      <td>Damnagar</td>\n",
       "      <td>Coriander(Leaves)</td>\n",
       "      <td>Coriander</td>\n",
       "      <td>FAQ</td>\n",
       "      <td>27-07-2023</td>\n",
       "      <td>8400.0</td>\n",
       "      <td>9000.0</td>\n",
       "      <td>8850.0</td>\n",
       "    </tr>\n",
       "    <tr>\n",
       "      <th>...</th>\n",
       "      <td>...</td>\n",
       "      <td>...</td>\n",
       "      <td>...</td>\n",
       "      <td>...</td>\n",
       "      <td>...</td>\n",
       "      <td>...</td>\n",
       "      <td>...</td>\n",
       "      <td>...</td>\n",
       "      <td>...</td>\n",
       "      <td>...</td>\n",
       "    </tr>\n",
       "    <tr>\n",
       "      <th>23088</th>\n",
       "      <td>Uttrakhand</td>\n",
       "      <td>Haridwar</td>\n",
       "      <td>Roorkee</td>\n",
       "      <td>Mango</td>\n",
       "      <td>Other</td>\n",
       "      <td>Medium</td>\n",
       "      <td>02-08-2023</td>\n",
       "      <td>800.0</td>\n",
       "      <td>1200.0</td>\n",
       "      <td>1000.0</td>\n",
       "    </tr>\n",
       "    <tr>\n",
       "      <th>23089</th>\n",
       "      <td>Uttrakhand</td>\n",
       "      <td>Haridwar</td>\n",
       "      <td>Roorkee</td>\n",
       "      <td>Mousambi(Sweet Lime)</td>\n",
       "      <td>Other</td>\n",
       "      <td>Medium</td>\n",
       "      <td>02-08-2023</td>\n",
       "      <td>1500.0</td>\n",
       "      <td>2500.0</td>\n",
       "      <td>2000.0</td>\n",
       "    </tr>\n",
       "    <tr>\n",
       "      <th>23090</th>\n",
       "      <td>Uttrakhand</td>\n",
       "      <td>Haridwar</td>\n",
       "      <td>Roorkee</td>\n",
       "      <td>Pear(Marasebu)</td>\n",
       "      <td>Other</td>\n",
       "      <td>Medium</td>\n",
       "      <td>02-08-2023</td>\n",
       "      <td>2000.0</td>\n",
       "      <td>3000.0</td>\n",
       "      <td>2500.0</td>\n",
       "    </tr>\n",
       "    <tr>\n",
       "      <th>23091</th>\n",
       "      <td>Uttrakhand</td>\n",
       "      <td>Haridwar</td>\n",
       "      <td>Roorkee</td>\n",
       "      <td>Potato</td>\n",
       "      <td>Other</td>\n",
       "      <td>FAQ</td>\n",
       "      <td>02-08-2023</td>\n",
       "      <td>900.0</td>\n",
       "      <td>1800.0</td>\n",
       "      <td>1500.0</td>\n",
       "    </tr>\n",
       "    <tr>\n",
       "      <th>23092</th>\n",
       "      <td>Uttrakhand</td>\n",
       "      <td>Haridwar</td>\n",
       "      <td>Roorkee</td>\n",
       "      <td>Pumpkin</td>\n",
       "      <td>Other</td>\n",
       "      <td>FAQ</td>\n",
       "      <td>02-08-2023</td>\n",
       "      <td>500.0</td>\n",
       "      <td>700.0</td>\n",
       "      <td>600.0</td>\n",
       "    </tr>\n",
       "  </tbody>\n",
       "</table>\n",
       "<p>23093 rows × 10 columns</p>\n",
       "</div>"
      ],
      "text/plain": [
       "            State  District    Market              Commodity      Variety  \\\n",
       "0         Gujarat    Amreli  Damnagar  Bhindi(Ladies Finger)       Bhindi   \n",
       "1         Gujarat    Amreli  Damnagar                Brinjal        Other   \n",
       "2         Gujarat    Amreli  Damnagar                Cabbage      Cabbage   \n",
       "3         Gujarat    Amreli  Damnagar            Cauliflower  Cauliflower   \n",
       "4         Gujarat    Amreli  Damnagar      Coriander(Leaves)    Coriander   \n",
       "...           ...       ...       ...                    ...          ...   \n",
       "23088  Uttrakhand  Haridwar   Roorkee                  Mango        Other   \n",
       "23089  Uttrakhand  Haridwar   Roorkee   Mousambi(Sweet Lime)        Other   \n",
       "23090  Uttrakhand  Haridwar   Roorkee         Pear(Marasebu)        Other   \n",
       "23091  Uttrakhand  Haridwar   Roorkee                 Potato        Other   \n",
       "23092  Uttrakhand  Haridwar   Roorkee                Pumpkin        Other   \n",
       "\n",
       "        Grade        date  Min Price  Max Price  Modal Price  \n",
       "0         FAQ  27-07-2023     4100.0     4500.0       4350.0  \n",
       "1         FAQ  27-07-2023     2200.0     3000.0       2450.0  \n",
       "2         FAQ  27-07-2023     2350.0     3000.0       2700.0  \n",
       "3         FAQ  27-07-2023     7000.0     7500.0       7250.0  \n",
       "4         FAQ  27-07-2023     8400.0     9000.0       8850.0  \n",
       "...       ...         ...        ...        ...          ...  \n",
       "23088  Medium  02-08-2023      800.0     1200.0       1000.0  \n",
       "23089  Medium  02-08-2023     1500.0     2500.0       2000.0  \n",
       "23090  Medium  02-08-2023     2000.0     3000.0       2500.0  \n",
       "23091     FAQ  02-08-2023      900.0     1800.0       1500.0  \n",
       "23092     FAQ  02-08-2023      500.0      700.0        600.0  \n",
       "\n",
       "[23093 rows x 10 columns]"
      ]
     },
     "execution_count": 16,
     "metadata": {},
     "output_type": "execute_result"
    }
   ],
   "source": [
    "df2=df2.rename(columns={\"Arrival_Date\":\"date\"})\n",
    "df2"
   ]
  },
  {
   "cell_type": "code",
   "execution_count": 17,
   "id": "41f79ef5",
   "metadata": {},
   "outputs": [
    {
     "data": {
      "text/html": [
       "<div>\n",
       "<style scoped>\n",
       "    .dataframe tbody tr th:only-of-type {\n",
       "        vertical-align: middle;\n",
       "    }\n",
       "\n",
       "    .dataframe tbody tr th {\n",
       "        vertical-align: top;\n",
       "    }\n",
       "\n",
       "    .dataframe thead th {\n",
       "        text-align: right;\n",
       "    }\n",
       "</style>\n",
       "<table border=\"1\" class=\"dataframe\">\n",
       "  <thead>\n",
       "    <tr style=\"text-align: right;\">\n",
       "      <th></th>\n",
       "      <th>State</th>\n",
       "      <th>District</th>\n",
       "      <th>Market</th>\n",
       "      <th>Commodity</th>\n",
       "      <th>Variety</th>\n",
       "      <th>Grade</th>\n",
       "      <th>date</th>\n",
       "      <th>Min Price</th>\n",
       "      <th>Max Price</th>\n",
       "      <th>model_price</th>\n",
       "    </tr>\n",
       "  </thead>\n",
       "  <tbody>\n",
       "    <tr>\n",
       "      <th>0</th>\n",
       "      <td>Gujarat</td>\n",
       "      <td>Amreli</td>\n",
       "      <td>Damnagar</td>\n",
       "      <td>Bhindi(Ladies Finger)</td>\n",
       "      <td>Bhindi</td>\n",
       "      <td>FAQ</td>\n",
       "      <td>27-07-2023</td>\n",
       "      <td>4100.0</td>\n",
       "      <td>4500.0</td>\n",
       "      <td>4350.0</td>\n",
       "    </tr>\n",
       "    <tr>\n",
       "      <th>1</th>\n",
       "      <td>Gujarat</td>\n",
       "      <td>Amreli</td>\n",
       "      <td>Damnagar</td>\n",
       "      <td>Brinjal</td>\n",
       "      <td>Other</td>\n",
       "      <td>FAQ</td>\n",
       "      <td>27-07-2023</td>\n",
       "      <td>2200.0</td>\n",
       "      <td>3000.0</td>\n",
       "      <td>2450.0</td>\n",
       "    </tr>\n",
       "    <tr>\n",
       "      <th>2</th>\n",
       "      <td>Gujarat</td>\n",
       "      <td>Amreli</td>\n",
       "      <td>Damnagar</td>\n",
       "      <td>Cabbage</td>\n",
       "      <td>Cabbage</td>\n",
       "      <td>FAQ</td>\n",
       "      <td>27-07-2023</td>\n",
       "      <td>2350.0</td>\n",
       "      <td>3000.0</td>\n",
       "      <td>2700.0</td>\n",
       "    </tr>\n",
       "    <tr>\n",
       "      <th>3</th>\n",
       "      <td>Gujarat</td>\n",
       "      <td>Amreli</td>\n",
       "      <td>Damnagar</td>\n",
       "      <td>Cauliflower</td>\n",
       "      <td>Cauliflower</td>\n",
       "      <td>FAQ</td>\n",
       "      <td>27-07-2023</td>\n",
       "      <td>7000.0</td>\n",
       "      <td>7500.0</td>\n",
       "      <td>7250.0</td>\n",
       "    </tr>\n",
       "    <tr>\n",
       "      <th>4</th>\n",
       "      <td>Gujarat</td>\n",
       "      <td>Amreli</td>\n",
       "      <td>Damnagar</td>\n",
       "      <td>Coriander(Leaves)</td>\n",
       "      <td>Coriander</td>\n",
       "      <td>FAQ</td>\n",
       "      <td>27-07-2023</td>\n",
       "      <td>8400.0</td>\n",
       "      <td>9000.0</td>\n",
       "      <td>8850.0</td>\n",
       "    </tr>\n",
       "    <tr>\n",
       "      <th>...</th>\n",
       "      <td>...</td>\n",
       "      <td>...</td>\n",
       "      <td>...</td>\n",
       "      <td>...</td>\n",
       "      <td>...</td>\n",
       "      <td>...</td>\n",
       "      <td>...</td>\n",
       "      <td>...</td>\n",
       "      <td>...</td>\n",
       "      <td>...</td>\n",
       "    </tr>\n",
       "    <tr>\n",
       "      <th>23088</th>\n",
       "      <td>Uttrakhand</td>\n",
       "      <td>Haridwar</td>\n",
       "      <td>Roorkee</td>\n",
       "      <td>Mango</td>\n",
       "      <td>Other</td>\n",
       "      <td>Medium</td>\n",
       "      <td>02-08-2023</td>\n",
       "      <td>800.0</td>\n",
       "      <td>1200.0</td>\n",
       "      <td>1000.0</td>\n",
       "    </tr>\n",
       "    <tr>\n",
       "      <th>23089</th>\n",
       "      <td>Uttrakhand</td>\n",
       "      <td>Haridwar</td>\n",
       "      <td>Roorkee</td>\n",
       "      <td>Mousambi(Sweet Lime)</td>\n",
       "      <td>Other</td>\n",
       "      <td>Medium</td>\n",
       "      <td>02-08-2023</td>\n",
       "      <td>1500.0</td>\n",
       "      <td>2500.0</td>\n",
       "      <td>2000.0</td>\n",
       "    </tr>\n",
       "    <tr>\n",
       "      <th>23090</th>\n",
       "      <td>Uttrakhand</td>\n",
       "      <td>Haridwar</td>\n",
       "      <td>Roorkee</td>\n",
       "      <td>Pear(Marasebu)</td>\n",
       "      <td>Other</td>\n",
       "      <td>Medium</td>\n",
       "      <td>02-08-2023</td>\n",
       "      <td>2000.0</td>\n",
       "      <td>3000.0</td>\n",
       "      <td>2500.0</td>\n",
       "    </tr>\n",
       "    <tr>\n",
       "      <th>23091</th>\n",
       "      <td>Uttrakhand</td>\n",
       "      <td>Haridwar</td>\n",
       "      <td>Roorkee</td>\n",
       "      <td>Potato</td>\n",
       "      <td>Other</td>\n",
       "      <td>FAQ</td>\n",
       "      <td>02-08-2023</td>\n",
       "      <td>900.0</td>\n",
       "      <td>1800.0</td>\n",
       "      <td>1500.0</td>\n",
       "    </tr>\n",
       "    <tr>\n",
       "      <th>23092</th>\n",
       "      <td>Uttrakhand</td>\n",
       "      <td>Haridwar</td>\n",
       "      <td>Roorkee</td>\n",
       "      <td>Pumpkin</td>\n",
       "      <td>Other</td>\n",
       "      <td>FAQ</td>\n",
       "      <td>02-08-2023</td>\n",
       "      <td>500.0</td>\n",
       "      <td>700.0</td>\n",
       "      <td>600.0</td>\n",
       "    </tr>\n",
       "  </tbody>\n",
       "</table>\n",
       "<p>23093 rows × 10 columns</p>\n",
       "</div>"
      ],
      "text/plain": [
       "            State  District    Market              Commodity      Variety  \\\n",
       "0         Gujarat    Amreli  Damnagar  Bhindi(Ladies Finger)       Bhindi   \n",
       "1         Gujarat    Amreli  Damnagar                Brinjal        Other   \n",
       "2         Gujarat    Amreli  Damnagar                Cabbage      Cabbage   \n",
       "3         Gujarat    Amreli  Damnagar            Cauliflower  Cauliflower   \n",
       "4         Gujarat    Amreli  Damnagar      Coriander(Leaves)    Coriander   \n",
       "...           ...       ...       ...                    ...          ...   \n",
       "23088  Uttrakhand  Haridwar   Roorkee                  Mango        Other   \n",
       "23089  Uttrakhand  Haridwar   Roorkee   Mousambi(Sweet Lime)        Other   \n",
       "23090  Uttrakhand  Haridwar   Roorkee         Pear(Marasebu)        Other   \n",
       "23091  Uttrakhand  Haridwar   Roorkee                 Potato        Other   \n",
       "23092  Uttrakhand  Haridwar   Roorkee                Pumpkin        Other   \n",
       "\n",
       "        Grade        date  Min Price  Max Price  model_price  \n",
       "0         FAQ  27-07-2023     4100.0     4500.0       4350.0  \n",
       "1         FAQ  27-07-2023     2200.0     3000.0       2450.0  \n",
       "2         FAQ  27-07-2023     2350.0     3000.0       2700.0  \n",
       "3         FAQ  27-07-2023     7000.0     7500.0       7250.0  \n",
       "4         FAQ  27-07-2023     8400.0     9000.0       8850.0  \n",
       "...       ...         ...        ...        ...          ...  \n",
       "23088  Medium  02-08-2023      800.0     1200.0       1000.0  \n",
       "23089  Medium  02-08-2023     1500.0     2500.0       2000.0  \n",
       "23090  Medium  02-08-2023     2000.0     3000.0       2500.0  \n",
       "23091     FAQ  02-08-2023      900.0     1800.0       1500.0  \n",
       "23092     FAQ  02-08-2023      500.0      700.0        600.0  \n",
       "\n",
       "[23093 rows x 10 columns]"
      ]
     },
     "execution_count": 17,
     "metadata": {},
     "output_type": "execute_result"
    }
   ],
   "source": [
    "df2=df2.rename(columns={\"Modal Price\":\"model_price\"})\n",
    "df2"
   ]
  },
  {
   "cell_type": "code",
   "execution_count": 18,
   "id": "8bae3f98",
   "metadata": {},
   "outputs": [
    {
     "data": {
      "text/plain": [
       "'27-07-2023'"
      ]
     },
     "execution_count": 18,
     "metadata": {},
     "output_type": "execute_result"
    }
   ],
   "source": [
    "df2['date'][28]"
   ]
  },
  {
   "cell_type": "code",
   "execution_count": 19,
   "id": "75404584",
   "metadata": {},
   "outputs": [
    {
     "name": "stdout",
     "output_type": "stream",
     "text": [
      "<class 'str'>\n",
      "['-']\n"
     ]
    },
    {
     "ename": "IndexError",
     "evalue": "list index out of range",
     "output_type": "error",
     "traceback": [
      "\u001b[1;31m---------------------------------------------------------------------------\u001b[0m",
      "\u001b[1;31mIndexError\u001b[0m                                Traceback (most recent call last)",
      "\u001b[1;32m~\\AppData\\Local\\Temp\\ipykernel_4696\\1185732081.py\u001b[0m in \u001b[0;36m<module>\u001b[1;34m\u001b[0m\n\u001b[0;32m      4\u001b[0m \u001b[0mprint\u001b[0m\u001b[1;33m(\u001b[0m\u001b[0mstr\u001b[0m\u001b[1;33m)\u001b[0m\u001b[1;33m\u001b[0m\u001b[1;33m\u001b[0m\u001b[0m\n\u001b[0;32m      5\u001b[0m \u001b[0mprint\u001b[0m\u001b[1;33m(\u001b[0m\u001b[0mstr2\u001b[0m\u001b[1;33m)\u001b[0m\u001b[1;33m\u001b[0m\u001b[1;33m\u001b[0m\u001b[0m\n\u001b[1;32m----> 6\u001b[1;33m \u001b[0mprint\u001b[0m\u001b[1;33m(\u001b[0m\u001b[0mstr2\u001b[0m\u001b[1;33m[\u001b[0m\u001b[1;36m1\u001b[0m\u001b[1;33m]\u001b[0m\u001b[1;33m)\u001b[0m\u001b[1;33m\u001b[0m\u001b[1;33m\u001b[0m\u001b[0m\n\u001b[0m",
      "\u001b[1;31mIndexError\u001b[0m: list index out of range"
     ]
    }
   ],
   "source": [
    "#Python split() method example\n",
    "# Variable declaration\n",
    "str2=str.split(\"-\")\n",
    "print(str)\n",
    "print(str2)\n",
    "print(str2[1])"
   ]
  },
  {
   "cell_type": "code",
   "execution_count": 20,
   "id": "996adf0b",
   "metadata": {},
   "outputs": [],
   "source": [
    "Dict={1:\"January\",2:\"February\",3:\"March\",4:\"April\",5:\"May\",6:\"June\",7:\"July\",8:\"August\",9:\"September\",10:\"October\",11:\"November\",12:\"December\"}"
   ]
  },
  {
   "cell_type": "code",
   "execution_count": 21,
   "id": "f5a424bb",
   "metadata": {},
   "outputs": [
    {
     "data": {
      "text/plain": [
       "'October'"
      ]
     },
     "execution_count": 21,
     "metadata": {},
     "output_type": "execute_result"
    }
   ],
   "source": [
    "Dict[10]"
   ]
  },
  {
   "cell_type": "code",
   "execution_count": 22,
   "id": "86103e53",
   "metadata": {},
   "outputs": [],
   "source": [
    "month_column=[]"
   ]
  },
  {
   "cell_type": "code",
   "execution_count": 23,
   "id": "bc297b92",
   "metadata": {},
   "outputs": [],
   "source": [
    "#Python split() method \n",
    "#Variable declaration\n",
    "for rr in df2[\"date\"]:\n",
    "    str=rr\n",
    "    #calling fuction\n",
    "    str2=str.split(\"-\")\n",
    "    month_column.append(Dict[int(str2[1])])"
   ]
  },
  {
   "cell_type": "code",
   "execution_count": 24,
   "id": "93b8bc62",
   "metadata": {},
   "outputs": [
    {
     "data": {
      "text/plain": [
       "23093"
      ]
     },
     "execution_count": 24,
     "metadata": {},
     "output_type": "execute_result"
    }
   ],
   "source": [
    "len(month_column)"
   ]
  },
  {
   "cell_type": "code",
   "execution_count": 25,
   "id": "fb0bcade",
   "metadata": {},
   "outputs": [],
   "source": [
    "df2[\"month_column\"]=month_column"
   ]
  },
  {
   "cell_type": "code",
   "execution_count": 26,
   "id": "71b63c97",
   "metadata": {},
   "outputs": [
    {
     "data": {
      "text/plain": [
       "0          July\n",
       "1          July\n",
       "2          July\n",
       "3          July\n",
       "4          July\n",
       "          ...  \n",
       "23088    August\n",
       "23089    August\n",
       "23090    August\n",
       "23091    August\n",
       "23092    August\n",
       "Name: month_column, Length: 23093, dtype: object"
      ]
     },
     "execution_count": 26,
     "metadata": {},
     "output_type": "execute_result"
    }
   ],
   "source": [
    "df2[\"month_column\"]"
   ]
  },
  {
   "cell_type": "code",
   "execution_count": 27,
   "id": "6e1795f6",
   "metadata": {},
   "outputs": [
    {
     "data": {
      "text/plain": [
       "array(['July', 'August'], dtype=object)"
      ]
     },
     "execution_count": 27,
     "metadata": {},
     "output_type": "execute_result"
    }
   ],
   "source": [
    "df2[\"month_column\"].unique()"
   ]
  },
  {
   "cell_type": "code",
   "execution_count": 28,
   "id": "98ed3492",
   "metadata": {},
   "outputs": [],
   "source": [
    "season_names=[]"
   ]
  },
  {
   "cell_type": "code",
   "execution_count": 29,
   "id": "a3ee9043",
   "metadata": {},
   "outputs": [],
   "source": [
    "for tt in df2[\"month_column\"]:\n",
    "    if tt==\"January\"or tt==\"February\":\n",
    "        season_names.append(\"winter\")\n",
    "    elif tt==\"March\"or tt==\"April\":\n",
    "        season_names.append(\"spring\")\n",
    "    elif tt==\"May\"or tt==\"June\":\n",
    "        season_names.append(\"summer\")\n",
    "    elif tt==\"July\"or tt==\"August\":\n",
    "        season_names.append(\"monsoon\")\n",
    "    elif tt==\"September\"or tt==\"October\":\n",
    "        season_names.append(\"autumn\")\n",
    "    elif tt==\"November\"or tt==\"December\":\n",
    "        season_names.append(\"pre winter\")"
   ]
  },
  {
   "cell_type": "code",
   "execution_count": 30,
   "id": "6fa174c9",
   "metadata": {},
   "outputs": [],
   "source": [
    "df2[\"season_names\"]=season_names"
   ]
  },
  {
   "cell_type": "code",
   "execution_count": 31,
   "id": "541ec633",
   "metadata": {},
   "outputs": [
    {
     "data": {
      "text/html": [
       "<div>\n",
       "<style scoped>\n",
       "    .dataframe tbody tr th:only-of-type {\n",
       "        vertical-align: middle;\n",
       "    }\n",
       "\n",
       "    .dataframe tbody tr th {\n",
       "        vertical-align: top;\n",
       "    }\n",
       "\n",
       "    .dataframe thead th {\n",
       "        text-align: right;\n",
       "    }\n",
       "</style>\n",
       "<table border=\"1\" class=\"dataframe\">\n",
       "  <thead>\n",
       "    <tr style=\"text-align: right;\">\n",
       "      <th></th>\n",
       "      <th>State</th>\n",
       "      <th>District</th>\n",
       "      <th>Market</th>\n",
       "      <th>Commodity</th>\n",
       "      <th>Variety</th>\n",
       "      <th>Grade</th>\n",
       "      <th>date</th>\n",
       "      <th>Min Price</th>\n",
       "      <th>Max Price</th>\n",
       "      <th>model_price</th>\n",
       "      <th>month_column</th>\n",
       "      <th>season_names</th>\n",
       "    </tr>\n",
       "  </thead>\n",
       "  <tbody>\n",
       "    <tr>\n",
       "      <th>0</th>\n",
       "      <td>Gujarat</td>\n",
       "      <td>Amreli</td>\n",
       "      <td>Damnagar</td>\n",
       "      <td>Bhindi(Ladies Finger)</td>\n",
       "      <td>Bhindi</td>\n",
       "      <td>FAQ</td>\n",
       "      <td>27-07-2023</td>\n",
       "      <td>4100.0</td>\n",
       "      <td>4500.0</td>\n",
       "      <td>4350.0</td>\n",
       "      <td>July</td>\n",
       "      <td>monsoon</td>\n",
       "    </tr>\n",
       "    <tr>\n",
       "      <th>1</th>\n",
       "      <td>Gujarat</td>\n",
       "      <td>Amreli</td>\n",
       "      <td>Damnagar</td>\n",
       "      <td>Brinjal</td>\n",
       "      <td>Other</td>\n",
       "      <td>FAQ</td>\n",
       "      <td>27-07-2023</td>\n",
       "      <td>2200.0</td>\n",
       "      <td>3000.0</td>\n",
       "      <td>2450.0</td>\n",
       "      <td>July</td>\n",
       "      <td>monsoon</td>\n",
       "    </tr>\n",
       "    <tr>\n",
       "      <th>2</th>\n",
       "      <td>Gujarat</td>\n",
       "      <td>Amreli</td>\n",
       "      <td>Damnagar</td>\n",
       "      <td>Cabbage</td>\n",
       "      <td>Cabbage</td>\n",
       "      <td>FAQ</td>\n",
       "      <td>27-07-2023</td>\n",
       "      <td>2350.0</td>\n",
       "      <td>3000.0</td>\n",
       "      <td>2700.0</td>\n",
       "      <td>July</td>\n",
       "      <td>monsoon</td>\n",
       "    </tr>\n",
       "    <tr>\n",
       "      <th>3</th>\n",
       "      <td>Gujarat</td>\n",
       "      <td>Amreli</td>\n",
       "      <td>Damnagar</td>\n",
       "      <td>Cauliflower</td>\n",
       "      <td>Cauliflower</td>\n",
       "      <td>FAQ</td>\n",
       "      <td>27-07-2023</td>\n",
       "      <td>7000.0</td>\n",
       "      <td>7500.0</td>\n",
       "      <td>7250.0</td>\n",
       "      <td>July</td>\n",
       "      <td>monsoon</td>\n",
       "    </tr>\n",
       "    <tr>\n",
       "      <th>4</th>\n",
       "      <td>Gujarat</td>\n",
       "      <td>Amreli</td>\n",
       "      <td>Damnagar</td>\n",
       "      <td>Coriander(Leaves)</td>\n",
       "      <td>Coriander</td>\n",
       "      <td>FAQ</td>\n",
       "      <td>27-07-2023</td>\n",
       "      <td>8400.0</td>\n",
       "      <td>9000.0</td>\n",
       "      <td>8850.0</td>\n",
       "      <td>July</td>\n",
       "      <td>monsoon</td>\n",
       "    </tr>\n",
       "  </tbody>\n",
       "</table>\n",
       "</div>"
      ],
      "text/plain": [
       "     State District    Market              Commodity      Variety Grade  \\\n",
       "0  Gujarat   Amreli  Damnagar  Bhindi(Ladies Finger)       Bhindi   FAQ   \n",
       "1  Gujarat   Amreli  Damnagar                Brinjal        Other   FAQ   \n",
       "2  Gujarat   Amreli  Damnagar                Cabbage      Cabbage   FAQ   \n",
       "3  Gujarat   Amreli  Damnagar            Cauliflower  Cauliflower   FAQ   \n",
       "4  Gujarat   Amreli  Damnagar      Coriander(Leaves)    Coriander   FAQ   \n",
       "\n",
       "         date  Min Price  Max Price  model_price month_column season_names  \n",
       "0  27-07-2023     4100.0     4500.0       4350.0         July      monsoon  \n",
       "1  27-07-2023     2200.0     3000.0       2450.0         July      monsoon  \n",
       "2  27-07-2023     2350.0     3000.0       2700.0         July      monsoon  \n",
       "3  27-07-2023     7000.0     7500.0       7250.0         July      monsoon  \n",
       "4  27-07-2023     8400.0     9000.0       8850.0         July      monsoon  "
      ]
     },
     "execution_count": 31,
     "metadata": {},
     "output_type": "execute_result"
    }
   ],
   "source": [
    "df2.head()"
   ]
  },
  {
   "cell_type": "code",
   "execution_count": 32,
   "id": "c7f0cc68",
   "metadata": {},
   "outputs": [
    {
     "name": "stdout",
     "output_type": "stream",
     "text": [
      "4\n"
     ]
    }
   ],
   "source": [
    "df=pd.Timestamp(\"2019-04-12\")\n",
    "print(df.dayofweek)"
   ]
  },
  {
   "cell_type": "code",
   "execution_count": 33,
   "id": "013dc36e",
   "metadata": {},
   "outputs": [],
   "source": [
    "day_of_week=[]"
   ]
  },
  {
   "cell_type": "code",
   "execution_count": 34,
   "id": "ea76c567",
   "metadata": {},
   "outputs": [
    {
     "name": "stderr",
     "output_type": "stream",
     "text": [
      "C:\\ProgramData\\Anaconda3\\lib\\site-packages\\IPython\\core\\interactiveshell.py:3185: UserWarning: Parsing '27-07-2023' in DD/MM/YYYY format. Provide format or specify infer_datetime_format=True for consistent parsing.\n",
      "  has_raised = await self.run_ast_nodes(code_ast.body, cell_name,\n",
      "C:\\ProgramData\\Anaconda3\\lib\\site-packages\\IPython\\core\\interactiveshell.py:3185: UserWarning: Parsing '28-07-2023' in DD/MM/YYYY format. Provide format or specify infer_datetime_format=True for consistent parsing.\n",
      "  has_raised = await self.run_ast_nodes(code_ast.body, cell_name,\n",
      "C:\\ProgramData\\Anaconda3\\lib\\site-packages\\IPython\\core\\interactiveshell.py:3185: UserWarning: Parsing '29-07-2023' in DD/MM/YYYY format. Provide format or specify infer_datetime_format=True for consistent parsing.\n",
      "  has_raised = await self.run_ast_nodes(code_ast.body, cell_name,\n",
      "C:\\ProgramData\\Anaconda3\\lib\\site-packages\\IPython\\core\\interactiveshell.py:3185: UserWarning: Parsing '30-07-2023' in DD/MM/YYYY format. Provide format or specify infer_datetime_format=True for consistent parsing.\n",
      "  has_raised = await self.run_ast_nodes(code_ast.body, cell_name,\n",
      "C:\\ProgramData\\Anaconda3\\lib\\site-packages\\IPython\\core\\interactiveshell.py:3185: UserWarning: Parsing '31-07-2023' in DD/MM/YYYY format. Provide format or specify infer_datetime_format=True for consistent parsing.\n",
      "  has_raised = await self.run_ast_nodes(code_ast.body, cell_name,\n"
     ]
    }
   ],
   "source": [
    "for rr in df2[\"date\"]:\n",
    "    str=rr\n",
    "    df=pd.Timestamp(rr)\n",
    "    day=df.dayofweek\n",
    "    day_of_week.append(day)"
   ]
  },
  {
   "cell_type": "code",
   "execution_count": 35,
   "id": "17d62abb",
   "metadata": {},
   "outputs": [
    {
     "data": {
      "text/plain": [
       "23093"
      ]
     },
     "execution_count": 35,
     "metadata": {},
     "output_type": "execute_result"
    }
   ],
   "source": [
    "len(day_of_week)"
   ]
  },
  {
   "cell_type": "code",
   "execution_count": 36,
   "id": "cbae64bc",
   "metadata": {},
   "outputs": [],
   "source": [
    "df2[\"day\"]=day_of_week"
   ]
  },
  {
   "cell_type": "code",
   "execution_count": 37,
   "id": "8b15418f",
   "metadata": {},
   "outputs": [
    {
     "data": {
      "text/html": [
       "<div>\n",
       "<style scoped>\n",
       "    .dataframe tbody tr th:only-of-type {\n",
       "        vertical-align: middle;\n",
       "    }\n",
       "\n",
       "    .dataframe tbody tr th {\n",
       "        vertical-align: top;\n",
       "    }\n",
       "\n",
       "    .dataframe thead th {\n",
       "        text-align: right;\n",
       "    }\n",
       "</style>\n",
       "<table border=\"1\" class=\"dataframe\">\n",
       "  <thead>\n",
       "    <tr style=\"text-align: right;\">\n",
       "      <th></th>\n",
       "      <th>State</th>\n",
       "      <th>District</th>\n",
       "      <th>Market</th>\n",
       "      <th>Commodity</th>\n",
       "      <th>Variety</th>\n",
       "      <th>Grade</th>\n",
       "      <th>date</th>\n",
       "      <th>Min Price</th>\n",
       "      <th>Max Price</th>\n",
       "      <th>model_price</th>\n",
       "      <th>month_column</th>\n",
       "      <th>season_names</th>\n",
       "      <th>day</th>\n",
       "    </tr>\n",
       "  </thead>\n",
       "  <tbody>\n",
       "    <tr>\n",
       "      <th>23088</th>\n",
       "      <td>Uttrakhand</td>\n",
       "      <td>Haridwar</td>\n",
       "      <td>Roorkee</td>\n",
       "      <td>Mango</td>\n",
       "      <td>Other</td>\n",
       "      <td>Medium</td>\n",
       "      <td>02-08-2023</td>\n",
       "      <td>800.0</td>\n",
       "      <td>1200.0</td>\n",
       "      <td>1000.0</td>\n",
       "      <td>August</td>\n",
       "      <td>monsoon</td>\n",
       "      <td>2</td>\n",
       "    </tr>\n",
       "    <tr>\n",
       "      <th>23089</th>\n",
       "      <td>Uttrakhand</td>\n",
       "      <td>Haridwar</td>\n",
       "      <td>Roorkee</td>\n",
       "      <td>Mousambi(Sweet Lime)</td>\n",
       "      <td>Other</td>\n",
       "      <td>Medium</td>\n",
       "      <td>02-08-2023</td>\n",
       "      <td>1500.0</td>\n",
       "      <td>2500.0</td>\n",
       "      <td>2000.0</td>\n",
       "      <td>August</td>\n",
       "      <td>monsoon</td>\n",
       "      <td>2</td>\n",
       "    </tr>\n",
       "    <tr>\n",
       "      <th>23090</th>\n",
       "      <td>Uttrakhand</td>\n",
       "      <td>Haridwar</td>\n",
       "      <td>Roorkee</td>\n",
       "      <td>Pear(Marasebu)</td>\n",
       "      <td>Other</td>\n",
       "      <td>Medium</td>\n",
       "      <td>02-08-2023</td>\n",
       "      <td>2000.0</td>\n",
       "      <td>3000.0</td>\n",
       "      <td>2500.0</td>\n",
       "      <td>August</td>\n",
       "      <td>monsoon</td>\n",
       "      <td>2</td>\n",
       "    </tr>\n",
       "    <tr>\n",
       "      <th>23091</th>\n",
       "      <td>Uttrakhand</td>\n",
       "      <td>Haridwar</td>\n",
       "      <td>Roorkee</td>\n",
       "      <td>Potato</td>\n",
       "      <td>Other</td>\n",
       "      <td>FAQ</td>\n",
       "      <td>02-08-2023</td>\n",
       "      <td>900.0</td>\n",
       "      <td>1800.0</td>\n",
       "      <td>1500.0</td>\n",
       "      <td>August</td>\n",
       "      <td>monsoon</td>\n",
       "      <td>2</td>\n",
       "    </tr>\n",
       "    <tr>\n",
       "      <th>23092</th>\n",
       "      <td>Uttrakhand</td>\n",
       "      <td>Haridwar</td>\n",
       "      <td>Roorkee</td>\n",
       "      <td>Pumpkin</td>\n",
       "      <td>Other</td>\n",
       "      <td>FAQ</td>\n",
       "      <td>02-08-2023</td>\n",
       "      <td>500.0</td>\n",
       "      <td>700.0</td>\n",
       "      <td>600.0</td>\n",
       "      <td>August</td>\n",
       "      <td>monsoon</td>\n",
       "      <td>2</td>\n",
       "    </tr>\n",
       "  </tbody>\n",
       "</table>\n",
       "</div>"
      ],
      "text/plain": [
       "            State  District   Market             Commodity Variety   Grade  \\\n",
       "23088  Uttrakhand  Haridwar  Roorkee                 Mango   Other  Medium   \n",
       "23089  Uttrakhand  Haridwar  Roorkee  Mousambi(Sweet Lime)   Other  Medium   \n",
       "23090  Uttrakhand  Haridwar  Roorkee        Pear(Marasebu)   Other  Medium   \n",
       "23091  Uttrakhand  Haridwar  Roorkee                Potato   Other     FAQ   \n",
       "23092  Uttrakhand  Haridwar  Roorkee               Pumpkin   Other     FAQ   \n",
       "\n",
       "             date  Min Price  Max Price  model_price month_column  \\\n",
       "23088  02-08-2023      800.0     1200.0       1000.0       August   \n",
       "23089  02-08-2023     1500.0     2500.0       2000.0       August   \n",
       "23090  02-08-2023     2000.0     3000.0       2500.0       August   \n",
       "23091  02-08-2023      900.0     1800.0       1500.0       August   \n",
       "23092  02-08-2023      500.0      700.0        600.0       August   \n",
       "\n",
       "      season_names  day  \n",
       "23088      monsoon    2  \n",
       "23089      monsoon    2  \n",
       "23090      monsoon    2  \n",
       "23091      monsoon    2  \n",
       "23092      monsoon    2  "
      ]
     },
     "execution_count": 37,
     "metadata": {},
     "output_type": "execute_result"
    }
   ],
   "source": [
    "df2.tail()"
   ]
  },
  {
   "cell_type": "code",
   "execution_count": 38,
   "id": "677b011e",
   "metadata": {},
   "outputs": [
    {
     "name": "stderr",
     "output_type": "stream",
     "text": [
      "C:\\Users\\samik\\AppData\\Local\\Temp\\ipykernel_4696\\4244321770.py:1: FutureWarning: In a future version of pandas all arguments of DataFrame.drop except for the argument 'labels' will be keyword-only.\n",
      "  df2=df2.drop(\"date\",1)\n"
     ]
    }
   ],
   "source": [
    "df2=df2.drop(\"date\",1)"
   ]
  },
  {
   "cell_type": "code",
   "execution_count": 39,
   "id": "679aa3e9",
   "metadata": {},
   "outputs": [
    {
     "data": {
      "text/plain": [
       "Index(['State', 'District', 'Market', 'Commodity', 'Variety', 'Grade',\n",
       "       'Min Price', 'Max Price', 'model_price', 'month_column', 'season_names',\n",
       "       'day'],\n",
       "      dtype='object')"
      ]
     },
     "execution_count": 39,
     "metadata": {},
     "output_type": "execute_result"
    }
   ],
   "source": [
    "df2.columns"
   ]
  },
  {
   "cell_type": "code",
   "execution_count": 40,
   "id": "81410a50",
   "metadata": {},
   "outputs": [],
   "source": [
    "df2=df2.head(100000)"
   ]
  },
  {
   "cell_type": "code",
   "execution_count": 41,
   "id": "a1078e52",
   "metadata": {},
   "outputs": [
    {
     "name": "stderr",
     "output_type": "stream",
     "text": [
      "C:\\ProgramData\\Anaconda3\\lib\\site-packages\\seaborn\\_decorators.py:36: FutureWarning: Pass the following variable as a keyword arg: x. From version 0.12, the only valid positional argument will be `data`, and passing other arguments without an explicit keyword will result in an error or misinterpretation.\n",
      "  warnings.warn(\n"
     ]
    },
    {
     "data": {
      "text/plain": [
       "<AxesSubplot:xlabel='model_price'>"
      ]
     },
     "execution_count": 41,
     "metadata": {},
     "output_type": "execute_result"
    },
    {
     "data": {
      "image/png": "[encoded data removed]",
      "text/plain": [
       "<Figure size 640x480 with 1 Axes>"
      ]
     },
     "metadata": {},
     "output_type": "display_data"
    }
   ],
   "source": [
    "#Box Plot\n",
    "sns.boxplot(df2[\"model_price\"])"
   ]
  },
  {
   "cell_type": "code",
   "execution_count": 42,
   "id": "e1458f73",
   "metadata": {},
   "outputs": [
    {
     "data": {
      "text/plain": [
       "(23093, 12)"
      ]
     },
     "execution_count": 42,
     "metadata": {},
     "output_type": "execute_result"
    }
   ],
   "source": [
    "df2.shape"
   ]
  },
  {
   "cell_type": "code",
   "execution_count": 43,
   "id": "145b92f7",
   "metadata": {},
   "outputs": [
    {
     "data": {
      "text/plain": [
       "0        4350.0\n",
       "1        2450.0\n",
       "2        2700.0\n",
       "3        7250.0\n",
       "4        8850.0\n",
       "          ...  \n",
       "23088    1000.0\n",
       "23089    2000.0\n",
       "23090    2500.0\n",
       "23091    1500.0\n",
       "23092     600.0\n",
       "Name: model_price, Length: 23093, dtype: float64"
      ]
     },
     "execution_count": 43,
     "metadata": {},
     "output_type": "execute_result"
    }
   ],
   "source": [
    "df2[\"model_price\"]"
   ]
  },
  {
   "cell_type": "code",
   "execution_count": 44,
   "id": "741741ed",
   "metadata": {},
   "outputs": [],
   "source": [
    "#IQR\n",
    "Q1 = np.percentile(df2[\"model_price\"],25,interpolation='midpoint')\n",
    "#Q3=np.percentile(df2[\"model_price\"],75,interpolation='midpoint')\n",
    "#IQR=Q3-Q1\n",
    "#print(IQR)"
   ]
  },
  {
   "cell_type": "code",
   "execution_count": 45,
   "id": "ee9518cd",
   "metadata": {},
   "outputs": [
    {
     "data": {
      "text/plain": [
       "1955.0"
      ]
     },
     "execution_count": 45,
     "metadata": {},
     "output_type": "execute_result"
    }
   ],
   "source": [
    "Q1"
   ]
  },
  {
   "cell_type": "code",
   "execution_count": 46,
   "id": "6c50bf8e",
   "metadata": {},
   "outputs": [],
   "source": [
    "Q3=np.percentile(df2[\"model_price\"],75,interpolation='midpoint')"
   ]
  },
  {
   "cell_type": "code",
   "execution_count": 47,
   "id": "714d9465",
   "metadata": {},
   "outputs": [
    {
     "data": {
      "text/plain": [
       "5500.0"
      ]
     },
     "execution_count": 47,
     "metadata": {},
     "output_type": "execute_result"
    }
   ],
   "source": [
    "Q3"
   ]
  },
  {
   "cell_type": "code",
   "execution_count": 48,
   "id": "6bef5806",
   "metadata": {},
   "outputs": [],
   "source": [
    "IQR=Q3-Q1"
   ]
  },
  {
   "cell_type": "code",
   "execution_count": 49,
   "id": "964dbb0d",
   "metadata": {},
   "outputs": [
    {
     "data": {
      "text/plain": [
       "3545.0"
      ]
     },
     "execution_count": 49,
     "metadata": {},
     "output_type": "execute_result"
    }
   ],
   "source": [
    "IQR"
   ]
  },
  {
   "cell_type": "code",
   "execution_count": 50,
   "id": "f653f92b",
   "metadata": {},
   "outputs": [
    {
     "data": {
      "text/plain": [
       "(23093, 12)"
      ]
     },
     "execution_count": 50,
     "metadata": {},
     "output_type": "execute_result"
    }
   ],
   "source": [
    "df2.shape"
   ]
  },
  {
   "cell_type": "code",
   "execution_count": 51,
   "id": "a5ce0713",
   "metadata": {},
   "outputs": [],
   "source": [
    "upper_values=np.where(df2[\"model_price\"]>=Q3+1.5*IQR)"
   ]
  },
  {
   "cell_type": "code",
   "execution_count": 52,
   "id": "209539c0",
   "metadata": {},
   "outputs": [
    {
     "name": "stdout",
     "output_type": "stream",
     "text": [
      "(array([    5,    10,    11, ..., 23018, 23019, 23023], dtype=int64),)\n"
     ]
    }
   ],
   "source": [
    "print(upper_values)"
   ]
  },
  {
   "cell_type": "code",
   "execution_count": 53,
   "id": "395c084c",
   "metadata": {},
   "outputs": [],
   "source": [
    "lower_values=np.where(df2[\"model_price\"]<=Q1-1.5*IQR)"
   ]
  },
  {
   "cell_type": "code",
   "execution_count": 54,
   "id": "0bb05bf5",
   "metadata": {},
   "outputs": [
    {
     "data": {
      "text/plain": [
       "(array([], dtype=int64),)"
      ]
     },
     "execution_count": 54,
     "metadata": {},
     "output_type": "execute_result"
    }
   ],
   "source": [
    "lower_values"
   ]
  },
  {
   "cell_type": "code",
   "execution_count": 55,
   "id": "a58c95c6",
   "metadata": {},
   "outputs": [
    {
     "data": {
      "text/plain": [
       "(23093, 12)"
      ]
     },
     "execution_count": 55,
     "metadata": {},
     "output_type": "execute_result"
    }
   ],
   "source": [
    "df2.shape"
   ]
  },
  {
   "cell_type": "code",
   "execution_count": 56,
   "id": "0ab725e2",
   "metadata": {},
   "outputs": [],
   "source": [
    "#upper=np.where(df2[\"model_price\"]) >= (Q3+1.5*IQR)\n",
    "#print(upper)\n",
    "#lower=np.where(df2[\"model_price\"]) <= (Q3-1.5*IQR)"
   ]
  },
  {
   "cell_type": "code",
   "execution_count": 57,
   "id": "5c6ee17a",
   "metadata": {},
   "outputs": [
    {
     "name": "stdout",
     "output_type": "stream",
     "text": [
      "[    5    10    11 ... 23018 23019 23023] []\n"
     ]
    }
   ],
   "source": [
    "print(upper_values[0],lower_values[0])"
   ]
  },
  {
   "cell_type": "code",
   "execution_count": 58,
   "id": "8431bfe9",
   "metadata": {},
   "outputs": [],
   "source": [
    "#Remoing the outliers"
   ]
  },
  {
   "cell_type": "code",
   "execution_count": 59,
   "id": "61651d07",
   "metadata": {},
   "outputs": [
    {
     "name": "stdout",
     "output_type": "stream",
     "text": [
      "New Shape: (21696, 12)\n"
     ]
    }
   ],
   "source": [
    "df2.drop(upper_values[0],inplace=True)\n",
    "df2.drop(lower_values[0],inplace=True)\n",
    "print(\"New Shape:\",df2.shape)"
   ]
  },
  {
   "cell_type": "code",
   "execution_count": 60,
   "id": "14dc1f78",
   "metadata": {},
   "outputs": [
    {
     "name": "stderr",
     "output_type": "stream",
     "text": [
      "C:\\ProgramData\\Anaconda3\\lib\\site-packages\\seaborn\\_decorators.py:36: FutureWarning: Pass the following variable as a keyword arg: x. From version 0.12, the only valid positional argument will be `data`, and passing other arguments without an explicit keyword will result in an error or misinterpretation.\n",
      "  warnings.warn(\n"
     ]
    },
    {
     "data": {
      "text/plain": [
       "<AxesSubplot:xlabel='model_price'>"
      ]
     },
     "execution_count": 60,
     "metadata": {},
     "output_type": "execute_result"
    },
    {
     "data": {
      "image/png": "[encoded data removed]",
      "text/plain": [
       "<Figure size 640x480 with 1 Axes>"
      ]
     },
     "metadata": {},
     "output_type": "display_data"
    }
   ],
   "source": [
    "sns.boxplot(df2[\"model_price\"])"
   ]
  },
  {
   "cell_type": "code",
   "execution_count": 61,
   "id": "b1ce7a1a",
   "metadata": {},
   "outputs": [],
   "source": [
    "df=df2.copy()"
   ]
  },
  {
   "cell_type": "code",
   "execution_count": 62,
   "id": "afc9fe69",
   "metadata": {},
   "outputs": [
    {
     "data": {
      "text/plain": [
       "Index(['State', 'District', 'Market', 'Commodity', 'Variety', 'Grade',\n",
       "       'Min Price', 'Max Price', 'model_price', 'month_column', 'season_names',\n",
       "       'day'],\n",
       "      dtype='object')"
      ]
     },
     "execution_count": 62,
     "metadata": {},
     "output_type": "execute_result"
    }
   ],
   "source": [
    "df2.columns"
   ]
  },
  {
   "cell_type": "code",
   "execution_count": null,
   "id": "9f797d2f",
   "metadata": {},
   "outputs": [],
   "source": []
  },
  {
   "cell_type": "code",
   "execution_count": 63,
   "id": "c99e9b13",
   "metadata": {},
   "outputs": [],
   "source": [
    "import plotly.express as px"
   ]
  },
  {
   "cell_type": "code",
   "execution_count": 64,
   "id": "5e76f6a9",
   "metadata": {},
   "outputs": [
    {
     "data": {
      "text/plain": [
       "<seaborn.axisgrid.FacetGrid at 0x1db94e0a670>"
      ]
     },
     "execution_count": 64,
     "metadata": {},
     "output_type": "execute_result"
    },
    {
     "data": {
      "image/png": "[encoded data removed]",
      "text/plain": [
       "<Figure size 613.625x500 with 1 Axes>"
      ]
     },
     "metadata": {},
     "output_type": "display_data"
    }
   ],
   "source": [
    "sns.relplot(data=df,x=\"State\",y=\"model_price\",hue=\"season_names\",kind=\"line\")"
   ]
  },
  {
   "cell_type": "code",
   "execution_count": 65,
   "id": "bf285c77",
   "metadata": {},
   "outputs": [
    {
     "data": {
      "text/plain": [
       "<seaborn.axisgrid.FacetGrid at 0x1db94f65d60>"
      ]
     },
     "execution_count": 65,
     "metadata": {},
     "output_type": "execute_result"
    },
    {
     "data": {
      "image/png": "[encoded data removed]",
      "text/plain": [
       "<Figure size 613.625x500 with 1 Axes>"
      ]
     },
     "metadata": {},
     "output_type": "display_data"
    }
   ],
   "source": [
    "sns.relplot(data=df,x=\"District\",y=\"model_price\",hue=\"season_names\",kind=\"line\")"
   ]
  },
  {
   "cell_type": "code",
   "execution_count": 66,
   "id": "37c74d82",
   "metadata": {},
   "outputs": [
    {
     "data": {
      "text/plain": [
       "<seaborn.axisgrid.FacetGrid at 0x1db95150400>"
      ]
     },
     "execution_count": 66,
     "metadata": {},
     "output_type": "execute_result"
    },
    {
     "data": {
      "image/png": "[encoded data removed]",
      "text/plain": [
       "<Figure size 613.625x500 with 1 Axes>"
      ]
     },
     "metadata": {},
     "output_type": "display_data"
    }
   ],
   "source": [
    "sns.relplot(data=df,x=\"season_names\",y=\"model_price\",hue=\"season_names\",kind=\"line\")"
   ]
  },
  {
   "cell_type": "code",
   "execution_count": 67,
   "id": "92a05c35",
   "metadata": {},
   "outputs": [
    {
     "data": {
      "text/plain": [
       "<seaborn.axisgrid.FacetGrid at 0x1db963952b0>"
      ]
     },
     "execution_count": 67,
     "metadata": {},
     "output_type": "execute_result"
    },
    {
     "data": {
      "image/png": "[encoded data removed]",
      "text/plain": [
       "<Figure size 613.625x500 with 1 Axes>"
      ]
     },
     "metadata": {},
     "output_type": "display_data"
    }
   ],
   "source": [
    "sns.relplot(data=df,x=\"day\",y=\"model_price\",hue=\"season_names\",kind=\"line\")"
   ]
  },
  {
   "cell_type": "code",
   "execution_count": 68,
   "id": "86aa8793",
   "metadata": {},
   "outputs": [
    {
     "data": {
      "text/plain": [
       "Index(['State', 'District', 'Market', 'Commodity', 'Variety', 'Grade',\n",
       "       'Min Price', 'Max Price', 'model_price', 'month_column', 'season_names',\n",
       "       'day'],\n",
       "      dtype='object')"
      ]
     },
     "execution_count": 68,
     "metadata": {},
     "output_type": "execute_result"
    }
   ],
   "source": [
    "df2.columns"
   ]
  },
  {
   "cell_type": "code",
   "execution_count": 69,
   "id": "629a6967",
   "metadata": {},
   "outputs": [
    {
     "data": {
      "text/plain": [
       "<seaborn.axisgrid.FacetGrid at 0x1db96395b80>"
      ]
     },
     "execution_count": 69,
     "metadata": {},
     "output_type": "execute_result"
    },
    {
     "data": {
      "image/png": "[encoded data removed]",
      "text/plain": [
       "<Figure size 613.625x500 with 1 Axes>"
      ]
     },
     "metadata": {},
     "output_type": "display_data"
    }
   ],
   "source": [
    "sns.relplot(data=df,x=\"Market\",y=\"model_price\",hue=\"season_names\",kind=\"line\")"
   ]
  },
  {
   "cell_type": "code",
   "execution_count": 70,
   "id": "1c8c02c7",
   "metadata": {},
   "outputs": [
    {
     "data": {
      "text/plain": [
       "<seaborn.axisgrid.FacetGrid at 0x1db993ca430>"
      ]
     },
     "execution_count": 70,
     "metadata": {},
     "output_type": "execute_result"
    },
    {
     "data": {
      "image/png": "[encoded data removed]",
      "text/plain": [
       "<Figure size 613.625x500 with 1 Axes>"
      ]
     },
     "metadata": {},
     "output_type": "display_data"
    }
   ],
   "source": [
    "sns.relplot(data=df,x=\"month_column\",y=\"model_price\",hue=\"season_names\",kind=\"line\")"
   ]
  },
  {
   "cell_type": "code",
   "execution_count": 71,
   "id": "6dc0f3a8",
   "metadata": {},
   "outputs": [
    {
     "name": "stdout",
     "output_type": "stream",
     "text": [
      "<class 'pandas.core.frame.DataFrame'>\n",
      "Int64Index: 21696 entries, 0 to 23092\n",
      "Data columns (total 12 columns):\n",
      " #   Column        Non-Null Count  Dtype  \n",
      "---  ------        --------------  -----  \n",
      " 0   State         21696 non-null  object \n",
      " 1   District      21696 non-null  object \n",
      " 2   Market        21696 non-null  object \n",
      " 3   Commodity     21696 non-null  object \n",
      " 4   Variety       21696 non-null  object \n",
      " 5   Grade         21696 non-null  object \n",
      " 6   Min Price     21696 non-null  float64\n",
      " 7   Max Price     21696 non-null  float64\n",
      " 8   model_price   21696 non-null  float64\n",
      " 9   month_column  21696 non-null  object \n",
      " 10  season_names  21696 non-null  object \n",
      " 11  day           21696 non-null  int64  \n",
      "dtypes: float64(3), int64(1), object(8)\n",
      "memory usage: 2.7+ MB\n"
     ]
    }
   ],
   "source": [
    "df2.info()"
   ]
  },
  {
   "cell_type": "code",
   "execution_count": 72,
   "id": "a2f1a230",
   "metadata": {},
   "outputs": [],
   "source": [
    "dist=(df2[\"Commodity\"])\n",
    "distset=set(dist)\n",
    "dd=list(distset)\n",
    "dictOfWords={dd[i]: i for i in range(0,len(dd))}\n",
    "df2[\"Commodity\"]=df2[\"Commodity\"].map(dictOfWords)"
   ]
  },
  {
   "cell_type": "code",
   "execution_count": 73,
   "id": "94a7496a",
   "metadata": {},
   "outputs": [],
   "source": [
    "dist=(df2[\"State\"])\n",
    "distset=set(dist)\n",
    "dd=list(distset)\n",
    "dictOfWords={dd[i]: i for i in range(0,len(dd))}\n",
    "df2[\"State\"]=df2[\"State\"].map(dictOfWords)"
   ]
  },
  {
   "cell_type": "code",
   "execution_count": 74,
   "id": "3235f3c9",
   "metadata": {},
   "outputs": [],
   "source": [
    "dist=(df2[\"Market\"])\n",
    "distset=set(dist)\n",
    "dd=list(distset)\n",
    "dictOfWords={dd[i]: i for i in range(0,len(dd))}\n",
    "df2[\"Market\"]=df2[\"Market\"].map(dictOfWords)"
   ]
  },
  {
   "cell_type": "code",
   "execution_count": 75,
   "id": "d482d176",
   "metadata": {},
   "outputs": [],
   "source": [
    "dist=(df2[\"month_column\"])\n",
    "distset=set(dist)\n",
    "dd=list(distset)\n",
    "dictOfWords={dd[i]: i for i in range(0,len(dd))}\n",
    "df2[\"month_column\"]=df2[\"month_column\"].map(dictOfWords)"
   ]
  },
  {
   "cell_type": "code",
   "execution_count": 76,
   "id": "bf0e6884",
   "metadata": {},
   "outputs": [],
   "source": [
    "dist=(df2[\"season_names\"])\n",
    "distset=set(dist)\n",
    "dd=list(distset)\n",
    "dictOfWords={dd[i]: i for i in range(0,len(dd))}\n",
    "df2[\"season_names\"]=df2[\"season_names\"].map(dictOfWords)"
   ]
  },
  {
   "cell_type": "code",
   "execution_count": 77,
   "id": "54fd914b",
   "metadata": {},
   "outputs": [
    {
     "name": "stdout",
     "output_type": "stream",
     "text": [
      "<class 'pandas.core.frame.DataFrame'>\n",
      "Int64Index: 21696 entries, 0 to 23092\n",
      "Data columns (total 12 columns):\n",
      " #   Column        Non-Null Count  Dtype  \n",
      "---  ------        --------------  -----  \n",
      " 0   State         21696 non-null  int64  \n",
      " 1   District      21696 non-null  object \n",
      " 2   Market        21696 non-null  int64  \n",
      " 3   Commodity     21696 non-null  int64  \n",
      " 4   Variety       21696 non-null  object \n",
      " 5   Grade         21696 non-null  object \n",
      " 6   Min Price     21696 non-null  float64\n",
      " 7   Max Price     21696 non-null  float64\n",
      " 8   model_price   21696 non-null  float64\n",
      " 9   month_column  21696 non-null  int64  \n",
      " 10  season_names  21696 non-null  int64  \n",
      " 11  day           21696 non-null  int64  \n",
      "dtypes: float64(3), int64(6), object(3)\n",
      "memory usage: 2.7+ MB\n"
     ]
    }
   ],
   "source": [
    "df2.info()"
   ]
  },
  {
   "cell_type": "code",
   "execution_count": 78,
   "id": "2b7cadf2",
   "metadata": {},
   "outputs": [],
   "source": [
    "import matplotlib.pyplot as plt"
   ]
  },
  {
   "cell_type": "code",
   "execution_count": 79,
   "id": "58e34f09",
   "metadata": {},
   "outputs": [
    {
     "data": {
      "image/png": "[encoded data removed]",
      "text/plain": [
       "<Figure size 640x480 with 2 Axes>"
      ]
     },
     "metadata": {},
     "output_type": "display_data"
    }
   ],
   "source": [
    "import seaborn as sns\n",
    "\n",
    "dataplot = sns.heatmap(df2.corr(), cmap=\"YlGnBu\", annot=True)\n",
    "plt.show()"
   ]
  },
  {
   "cell_type": "code",
   "execution_count": 80,
   "id": "a6889320",
   "metadata": {},
   "outputs": [
    {
     "data": {
      "text/plain": [
       "Index(['State', 'District', 'Market', 'Commodity', 'Variety', 'Grade',\n",
       "       'Min Price', 'Max Price', 'model_price', 'month_column', 'season_names',\n",
       "       'day'],\n",
       "      dtype='object')"
      ]
     },
     "execution_count": 80,
     "metadata": {},
     "output_type": "execute_result"
    }
   ],
   "source": [
    "df2.columns"
   ]
  },
  {
   "cell_type": "code",
   "execution_count": 81,
   "id": "6cba57f1",
   "metadata": {},
   "outputs": [],
   "source": [
    "features=df2[[\"Commodity\",\"State\",\"District\",\"month_column\",\"season_names\",\"day\"]]\n",
    "labels=df2[\"model_price\"]"
   ]
  },
  {
   "cell_type": "code",
   "execution_count": 82,
   "id": "fdc87727",
   "metadata": {},
   "outputs": [],
   "source": [
    "from sklearn.model_selection import train_test_split\n",
    "Xtrain, Xtest, Ytrain, Ytest=train_test_split(features,labels,test_size=0.2,random_state=2)"
   ]
  },
  {
   "cell_type": "code",
   "execution_count": 83,
   "id": "6aa9bb42",
   "metadata": {},
   "outputs": [],
   "source": [
    "import pandas as pd \n",
    "import numpy as np\n",
    "import matplotlib.pyplot as plt\n",
    "import seaborn as sns\n",
    "from sklearn.metrics import classification_report\n",
    "from sklearn import metrics\n",
    "from sklearn import tree"
   ]
  },
  {
   "cell_type": "code",
   "execution_count": 84,
   "id": "53b5446b",
   "metadata": {},
   "outputs": [
    {
     "ename": "ValueError",
     "evalue": "could not convert string to float: 'Fatehpur'",
     "output_type": "error",
     "traceback": [
      "\u001b[1;31m---------------------------------------------------------------------------\u001b[0m",
      "\u001b[1;31mValueError\u001b[0m                                Traceback (most recent call last)",
      "\u001b[1;32m~\\AppData\\Local\\Temp\\ipykernel_4696\\3657245340.py\u001b[0m in \u001b[0;36m<module>\u001b[1;34m\u001b[0m\n\u001b[0;32m      2\u001b[0m \u001b[1;32mfrom\u001b[0m \u001b[0msklearn\u001b[0m\u001b[1;33m.\u001b[0m\u001b[0mdatasets\u001b[0m \u001b[1;32mimport\u001b[0m \u001b[0mmake_regression\u001b[0m\u001b[1;33m\u001b[0m\u001b[1;33m\u001b[0m\u001b[0m\n\u001b[0;32m      3\u001b[0m \u001b[0mregr\u001b[0m\u001b[1;33m=\u001b[0m \u001b[0mRandomForestRegressor\u001b[0m\u001b[1;33m(\u001b[0m\u001b[0mmax_depth\u001b[0m\u001b[1;33m=\u001b[0m\u001b[1;36m1000\u001b[0m\u001b[1;33m,\u001b[0m \u001b[0mrandom_state\u001b[0m\u001b[1;33m=\u001b[0m\u001b[1;36m0\u001b[0m\u001b[1;33m)\u001b[0m\u001b[1;33m\u001b[0m\u001b[1;33m\u001b[0m\u001b[0m\n\u001b[1;32m----> 4\u001b[1;33m \u001b[0mregr\u001b[0m\u001b[1;33m.\u001b[0m\u001b[0mfit\u001b[0m\u001b[1;33m(\u001b[0m\u001b[0mXtrain\u001b[0m\u001b[1;33m,\u001b[0m\u001b[0mYtrain\u001b[0m\u001b[1;33m)\u001b[0m\u001b[1;33m\u001b[0m\u001b[1;33m\u001b[0m\u001b[0m\n\u001b[0m",
      "\u001b[1;32mC:\\ProgramData\\Anaconda3\\lib\\site-packages\\sklearn\\ensemble\\_forest.py\u001b[0m in \u001b[0;36mfit\u001b[1;34m(self, X, y, sample_weight)\u001b[0m\n\u001b[0;32m    325\u001b[0m         \u001b[1;32mif\u001b[0m \u001b[0missparse\u001b[0m\u001b[1;33m(\u001b[0m\u001b[0my\u001b[0m\u001b[1;33m)\u001b[0m\u001b[1;33m:\u001b[0m\u001b[1;33m\u001b[0m\u001b[1;33m\u001b[0m\u001b[0m\n\u001b[0;32m    326\u001b[0m             \u001b[1;32mraise\u001b[0m \u001b[0mValueError\u001b[0m\u001b[1;33m(\u001b[0m\u001b[1;34m\"sparse multilabel-indicator for y is not supported.\"\u001b[0m\u001b[1;33m)\u001b[0m\u001b[1;33m\u001b[0m\u001b[1;33m\u001b[0m\u001b[0m\n\u001b[1;32m--> 327\u001b[1;33m         X, y = self._validate_data(\n\u001b[0m\u001b[0;32m    328\u001b[0m             \u001b[0mX\u001b[0m\u001b[1;33m,\u001b[0m \u001b[0my\u001b[0m\u001b[1;33m,\u001b[0m \u001b[0mmulti_output\u001b[0m\u001b[1;33m=\u001b[0m\u001b[1;32mTrue\u001b[0m\u001b[1;33m,\u001b[0m \u001b[0maccept_sparse\u001b[0m\u001b[1;33m=\u001b[0m\u001b[1;34m\"csc\"\u001b[0m\u001b[1;33m,\u001b[0m \u001b[0mdtype\u001b[0m\u001b[1;33m=\u001b[0m\u001b[0mDTYPE\u001b[0m\u001b[1;33m\u001b[0m\u001b[1;33m\u001b[0m\u001b[0m\n\u001b[0;32m    329\u001b[0m         )\n",
      "\u001b[1;32mC:\\ProgramData\\Anaconda3\\lib\\site-packages\\sklearn\\base.py\u001b[0m in \u001b[0;36m_validate_data\u001b[1;34m(self, X, y, reset, validate_separately, **check_params)\u001b[0m\n\u001b[0;32m    579\u001b[0m                 \u001b[0my\u001b[0m \u001b[1;33m=\u001b[0m \u001b[0mcheck_array\u001b[0m\u001b[1;33m(\u001b[0m\u001b[0my\u001b[0m\u001b[1;33m,\u001b[0m \u001b[1;33m**\u001b[0m\u001b[0mcheck_y_params\u001b[0m\u001b[1;33m)\u001b[0m\u001b[1;33m\u001b[0m\u001b[1;33m\u001b[0m\u001b[0m\n\u001b[0;32m    580\u001b[0m             \u001b[1;32melse\u001b[0m\u001b[1;33m:\u001b[0m\u001b[1;33m\u001b[0m\u001b[1;33m\u001b[0m\u001b[0m\n\u001b[1;32m--> 581\u001b[1;33m                 \u001b[0mX\u001b[0m\u001b[1;33m,\u001b[0m \u001b[0my\u001b[0m \u001b[1;33m=\u001b[0m \u001b[0mcheck_X_y\u001b[0m\u001b[1;33m(\u001b[0m\u001b[0mX\u001b[0m\u001b[1;33m,\u001b[0m \u001b[0my\u001b[0m\u001b[1;33m,\u001b[0m \u001b[1;33m**\u001b[0m\u001b[0mcheck_params\u001b[0m\u001b[1;33m)\u001b[0m\u001b[1;33m\u001b[0m\u001b[1;33m\u001b[0m\u001b[0m\n\u001b[0m\u001b[0;32m    582\u001b[0m             \u001b[0mout\u001b[0m \u001b[1;33m=\u001b[0m \u001b[0mX\u001b[0m\u001b[1;33m,\u001b[0m \u001b[0my\u001b[0m\u001b[1;33m\u001b[0m\u001b[1;33m\u001b[0m\u001b[0m\n\u001b[0;32m    583\u001b[0m \u001b[1;33m\u001b[0m\u001b[0m\n",
      "\u001b[1;32mC:\\ProgramData\\Anaconda3\\lib\\site-packages\\sklearn\\utils\\validation.py\u001b[0m in \u001b[0;36mcheck_X_y\u001b[1;34m(X, y, accept_sparse, accept_large_sparse, dtype, order, copy, force_all_finite, ensure_2d, allow_nd, multi_output, ensure_min_samples, ensure_min_features, y_numeric, estimator)\u001b[0m\n\u001b[0;32m    962\u001b[0m         \u001b[1;32mraise\u001b[0m \u001b[0mValueError\u001b[0m\u001b[1;33m(\u001b[0m\u001b[1;34m\"y cannot be None\"\u001b[0m\u001b[1;33m)\u001b[0m\u001b[1;33m\u001b[0m\u001b[1;33m\u001b[0m\u001b[0m\n\u001b[0;32m    963\u001b[0m \u001b[1;33m\u001b[0m\u001b[0m\n\u001b[1;32m--> 964\u001b[1;33m     X = check_array(\n\u001b[0m\u001b[0;32m    965\u001b[0m         \u001b[0mX\u001b[0m\u001b[1;33m,\u001b[0m\u001b[1;33m\u001b[0m\u001b[1;33m\u001b[0m\u001b[0m\n\u001b[0;32m    966\u001b[0m         \u001b[0maccept_sparse\u001b[0m\u001b[1;33m=\u001b[0m\u001b[0maccept_sparse\u001b[0m\u001b[1;33m,\u001b[0m\u001b[1;33m\u001b[0m\u001b[1;33m\u001b[0m\u001b[0m\n",
      "\u001b[1;32mC:\\ProgramData\\Anaconda3\\lib\\site-packages\\sklearn\\utils\\validation.py\u001b[0m in \u001b[0;36mcheck_array\u001b[1;34m(array, accept_sparse, accept_large_sparse, dtype, order, copy, force_all_finite, ensure_2d, allow_nd, ensure_min_samples, ensure_min_features, estimator)\u001b[0m\n\u001b[0;32m    744\u001b[0m                     \u001b[0marray\u001b[0m \u001b[1;33m=\u001b[0m \u001b[0marray\u001b[0m\u001b[1;33m.\u001b[0m\u001b[0mastype\u001b[0m\u001b[1;33m(\u001b[0m\u001b[0mdtype\u001b[0m\u001b[1;33m,\u001b[0m \u001b[0mcasting\u001b[0m\u001b[1;33m=\u001b[0m\u001b[1;34m\"unsafe\"\u001b[0m\u001b[1;33m,\u001b[0m \u001b[0mcopy\u001b[0m\u001b[1;33m=\u001b[0m\u001b[1;32mFalse\u001b[0m\u001b[1;33m)\u001b[0m\u001b[1;33m\u001b[0m\u001b[1;33m\u001b[0m\u001b[0m\n\u001b[0;32m    745\u001b[0m                 \u001b[1;32melse\u001b[0m\u001b[1;33m:\u001b[0m\u001b[1;33m\u001b[0m\u001b[1;33m\u001b[0m\u001b[0m\n\u001b[1;32m--> 746\u001b[1;33m                     \u001b[0marray\u001b[0m \u001b[1;33m=\u001b[0m \u001b[0mnp\u001b[0m\u001b[1;33m.\u001b[0m\u001b[0masarray\u001b[0m\u001b[1;33m(\u001b[0m\u001b[0marray\u001b[0m\u001b[1;33m,\u001b[0m \u001b[0morder\u001b[0m\u001b[1;33m=\u001b[0m\u001b[0morder\u001b[0m\u001b[1;33m,\u001b[0m \u001b[0mdtype\u001b[0m\u001b[1;33m=\u001b[0m\u001b[0mdtype\u001b[0m\u001b[1;33m)\u001b[0m\u001b[1;33m\u001b[0m\u001b[1;33m\u001b[0m\u001b[0m\n\u001b[0m\u001b[0;32m    747\u001b[0m             \u001b[1;32mexcept\u001b[0m \u001b[0mComplexWarning\u001b[0m \u001b[1;32mas\u001b[0m \u001b[0mcomplex_warning\u001b[0m\u001b[1;33m:\u001b[0m\u001b[1;33m\u001b[0m\u001b[1;33m\u001b[0m\u001b[0m\n\u001b[0;32m    748\u001b[0m                 raise ValueError(\n",
      "\u001b[1;32mC:\\ProgramData\\Anaconda3\\lib\\site-packages\\pandas\\core\\generic.py\u001b[0m in \u001b[0;36m__array__\u001b[1;34m(self, dtype)\u001b[0m\n\u001b[0;32m   2062\u001b[0m \u001b[1;33m\u001b[0m\u001b[0m\n\u001b[0;32m   2063\u001b[0m     \u001b[1;32mdef\u001b[0m \u001b[0m__array__\u001b[0m\u001b[1;33m(\u001b[0m\u001b[0mself\u001b[0m\u001b[1;33m,\u001b[0m \u001b[0mdtype\u001b[0m\u001b[1;33m:\u001b[0m \u001b[0mnpt\u001b[0m\u001b[1;33m.\u001b[0m\u001b[0mDTypeLike\u001b[0m \u001b[1;33m|\u001b[0m \u001b[1;32mNone\u001b[0m \u001b[1;33m=\u001b[0m \u001b[1;32mNone\u001b[0m\u001b[1;33m)\u001b[0m \u001b[1;33m->\u001b[0m \u001b[0mnp\u001b[0m\u001b[1;33m.\u001b[0m\u001b[0mndarray\u001b[0m\u001b[1;33m:\u001b[0m\u001b[1;33m\u001b[0m\u001b[1;33m\u001b[0m\u001b[0m\n\u001b[1;32m-> 2064\u001b[1;33m         \u001b[1;32mreturn\u001b[0m \u001b[0mnp\u001b[0m\u001b[1;33m.\u001b[0m\u001b[0masarray\u001b[0m\u001b[1;33m(\u001b[0m\u001b[0mself\u001b[0m\u001b[1;33m.\u001b[0m\u001b[0m_values\u001b[0m\u001b[1;33m,\u001b[0m \u001b[0mdtype\u001b[0m\u001b[1;33m=\u001b[0m\u001b[0mdtype\u001b[0m\u001b[1;33m)\u001b[0m\u001b[1;33m\u001b[0m\u001b[1;33m\u001b[0m\u001b[0m\n\u001b[0m\u001b[0;32m   2065\u001b[0m \u001b[1;33m\u001b[0m\u001b[0m\n\u001b[0;32m   2066\u001b[0m     def __array_wrap__(\n",
      "\u001b[1;31mValueError\u001b[0m: could not convert string to float: 'Fatehpur'"
     ]
    }
   ],
   "source": [
    "from sklearn.ensemble import RandomForestRegressor\n",
    "from sklearn.datasets import make_regression\n",
    "regr= RandomForestRegressor(max_depth=1000, random_state=0)\n",
    "regr.fit(Xtrain,Ytrain)"
   ]
  },
  {
   "cell_type": "code",
   "execution_count": null,
   "id": "2c25954c",
   "metadata": {},
   "outputs": [],
   "source": [
    "X=df[['crim','zn','indus','chas','nox','rm','age','dis','rad','tax','ptratio','black','lstat']]\n",
    "Y=df['medv']"
   ]
  },
  {
   "cell_type": "code",
   "execution_count": null,
   "id": "4358784e",
   "metadata": {},
   "outputs": [],
   "source": [
    "Xtest[0:1]"
   ]
  },
  {
   "cell_type": "code",
   "execution_count": null,
   "id": "e5288f35",
   "metadata": {},
   "outputs": [],
   "source": [
    "y_pred=regr.prdict(Xtest)"
   ]
  },
  {
   "cell_type": "code",
   "execution_count": null,
   "id": "6d83ac42",
   "metadata": {},
   "outputs": [],
   "source": [
    "from sklearn.metrics import r2_score"
   ]
  },
  {
   "cell_type": "code",
   "execution_count": null,
   "id": "dc2d8073",
   "metadata": {},
   "outputs": [],
   "source": [
    "r2_score(Ytest,y_pred)"
   ]
  },
  {
   "cell_type": "code",
   "execution_count": null,
   "id": "595b2a60",
   "metadata": {},
   "outputs": [],
   "source": [
    "y_pred"
   ]
  },
  {
   "cell_type": "code",
   "execution_count": null,
   "id": "1baab727",
   "metadata": {},
   "outputs": [],
   "source": [
    "df2.columns"
   ]
  },
  {
   "cell_type": "code",
   "execution_count": null,
   "id": "7392c526",
   "metadata": {},
   "outputs": [],
   "source": [
    "Xtest[0:1]"
   ]
  },
  {
   "cell_type": "code",
   "execution_count": 35,
   "id": "ed783394",
   "metadata": {},
   "outputs": [
    {
     "ename": "NameError",
     "evalue": "name 'regr' is not defined",
     "output_type": "error",
     "traceback": [
      "\u001b[1;31m---------------------------------------------------------------------------\u001b[0m",
      "\u001b[1;31mNameError\u001b[0m                                 Traceback (most recent call last)",
      "\u001b[1;32m~\\AppData\\Local\\Temp\\ipykernel_2940\\4129506810.py\u001b[0m in \u001b[0;36m<module>\u001b[1;34m\u001b[0m\n\u001b[0;32m      1\u001b[0m \u001b[0muser_input\u001b[0m\u001b[1;33m=\u001b[0m\u001b[1;33m[\u001b[0m\u001b[1;33m[\u001b[0m\u001b[1;36m156\u001b[0m\u001b[1;33m,\u001b[0m\u001b[1;36m18\u001b[0m\u001b[1;33m,\u001b[0m\u001b[1;36m194\u001b[0m\u001b[1;33m,\u001b[0m\u001b[1;36m1512\u001b[0m\u001b[1;33m,\u001b[0m\u001b[1;36m2\u001b[0m\u001b[1;33m,\u001b[0m\u001b[1;36m1\u001b[0m\u001b[1;33m,\u001b[0m\u001b[1;36m2\u001b[0m\u001b[1;33m]\u001b[0m\u001b[1;33m]\u001b[0m\u001b[1;33m\u001b[0m\u001b[1;33m\u001b[0m\u001b[0m\n\u001b[1;32m----> 2\u001b[1;33m \u001b[0mregr\u001b[0m\u001b[1;33m.\u001b[0m\u001b[0mpredict\u001b[0m\u001b[1;33m(\u001b[0m\u001b[0muser_input\u001b[0m\u001b[1;33m)\u001b[0m\u001b[1;33m\u001b[0m\u001b[1;33m\u001b[0m\u001b[0m\n\u001b[0m",
      "\u001b[1;31mNameError\u001b[0m: name 'regr' is not defined"
     ]
    }
   ],
   "source": [
    "user_input=[[156,18,194,1512,2,1,2]]\n",
    "regr.predict(user_input)"
   ]
  },
  {
   "cell_type": "code",
   "execution_count": null,
   "id": "e3bf361d",
   "metadata": {},
   "outputs": [],
   "source": []
  },
  {
   "cell_type": "code",
   "execution_count": null,
   "id": "5d94b2ae",
   "metadata": {},
   "outputs": [],
   "source": []
  },
  {
   "cell_type": "code",
   "execution_count": null,
   "id": "b6f8e4be",
   "metadata": {},
   "outputs": [],
   "source": []
  },
  {
   "cell_type": "code",
   "execution_count": null,
   "id": "932f06a4",
   "metadata": {},
   "outputs": [],
   "source": []
  },
  {
   "cell_type": "code",
   "execution_count": null,
   "id": "950eaa0e",
   "metadata": {},
   "outputs": [],
   "source": []
  }
 ],
 "metadata": {
  "kernelspec": {
   "display_name": "Python 3 (ipykernel)",
   "language": "python",
   "name": "python3"
  },
  "language_info": {
   "codemirror_mode": {
    "name": "ipython",
    "version": 3
   },
   "file_extension": ".py",
   "mimetype": "text/x-python",
   "name": "python",
   "nbconvert_exporter": "python",
   "pygments_lexer": "ipython3",
   "version": "3.9.13"
  }
 },
 "nbformat": 4,
 "nbformat_minor": 5
}
